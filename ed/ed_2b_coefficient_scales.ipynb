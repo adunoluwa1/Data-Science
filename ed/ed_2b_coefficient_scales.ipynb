{
    "cells": [
        {
            "cell_type": "code",
            "execution_count": 63,
            "metadata": {},
            "outputs": [],
            "source": [
                "import pandas as pd\n",
                "import matplotlib.pyplot as plt\n",
                "from sklearn.linear_model import LinearRegression"
            ]
        },
        {
            "attachments": {},
            "cell_type": "markdown",
            "metadata": {},
            "source": [
                "## Coefficient Interpretation on Different Scales\n",
                "\n",
                "In this notebook we'll interpret a regression model's coefficients to understand the relationship between the predictors and the response. We'll be using the now familiar advertising data."
            ]
        },
        {
            "cell_type": "code",
            "execution_count": 64,
            "metadata": {},
            "outputs": [
                {
                    "data": {
                        "text/html": [
                            "<div>\n",
                            "<style scoped>\n",
                            "    .dataframe tbody tr th:only-of-type {\n",
                            "        vertical-align: middle;\n",
                            "    }\n",
                            "\n",
                            "    .dataframe tbody tr th {\n",
                            "        vertical-align: top;\n",
                            "    }\n",
                            "\n",
                            "    .dataframe thead th {\n",
                            "        text-align: right;\n",
                            "    }\n",
                            "</style>\n",
                            "<table border=\"1\" class=\"dataframe\">\n",
                            "  <thead>\n",
                            "    <tr style=\"text-align: right;\">\n",
                            "      <th></th>\n",
                            "      <th>TV</th>\n",
                            "      <th>radio</th>\n",
                            "      <th>newspaper</th>\n",
                            "      <th>sales</th>\n",
                            "    </tr>\n",
                            "  </thead>\n",
                            "  <tbody>\n",
                            "    <tr>\n",
                            "      <th>1</th>\n",
                            "      <td>230.1</td>\n",
                            "      <td>37.8</td>\n",
                            "      <td>69.2</td>\n",
                            "      <td>22.1</td>\n",
                            "    </tr>\n",
                            "    <tr>\n",
                            "      <th>2</th>\n",
                            "      <td>44.5</td>\n",
                            "      <td>39.3</td>\n",
                            "      <td>45.1</td>\n",
                            "      <td>10.4</td>\n",
                            "    </tr>\n",
                            "    <tr>\n",
                            "      <th>3</th>\n",
                            "      <td>17.2</td>\n",
                            "      <td>45.9</td>\n",
                            "      <td>69.3</td>\n",
                            "      <td>9.3</td>\n",
                            "    </tr>\n",
                            "    <tr>\n",
                            "      <th>4</th>\n",
                            "      <td>151.5</td>\n",
                            "      <td>41.3</td>\n",
                            "      <td>58.5</td>\n",
                            "      <td>18.5</td>\n",
                            "    </tr>\n",
                            "    <tr>\n",
                            "      <th>5</th>\n",
                            "      <td>180.8</td>\n",
                            "      <td>10.8</td>\n",
                            "      <td>58.4</td>\n",
                            "      <td>12.9</td>\n",
                            "    </tr>\n",
                            "  </tbody>\n",
                            "</table>\n",
                            "</div>"
                        ],
                        "text/plain": [
                            "      TV  radio  newspaper  sales\n",
                            "1  230.1   37.8       69.2   22.1\n",
                            "2   44.5   39.3       45.1   10.4\n",
                            "3   17.2   45.9       69.3    9.3\n",
                            "4  151.5   41.3       58.5   18.5\n",
                            "5  180.8   10.8       58.4   12.9"
                        ]
                    },
                    "execution_count": 64,
                    "metadata": {},
                    "output_type": "execute_result"
                }
            ],
            "source": [
                "df = pd.read_csv(r\"G:\\My Drive\\4b - Courses\\9 - Data Science\\Datasets\\ALL CSV FILES - 2nd Edition\\Advertising.csv\", index_col=0)\n",
                "df.head()"
            ]
        },
        {
            "cell_type": "code",
            "execution_count": 65,
            "id": "a207fd4d",
            "metadata": {},
            "outputs": [],
            "source": [
                "for col in df.columns[1:]:\n",
                "    df.rename(columns={col: col.title()}, inplace=True)"
            ]
        },
        {
            "attachments": {},
            "cell_type": "markdown",
            "metadata": {},
            "source": [
                "All values are in thousands of dollars.\\\n",
                "Again, we want to predict `Sales` from the various media advertising budgets.\n",
                "\n",
                "So next we'll create our predictor matrix, $X$ and response vector, $y$."
            ]
        },
        {
            "cell_type": "code",
            "execution_count": 66,
            "metadata": {},
            "outputs": [],
            "source": [
                "X = df.drop('Sales', axis=1)\n",
                "y = df.Sales.values"
            ]
        },
        {
            "attachments": {},
            "cell_type": "markdown",
            "metadata": {},
            "source": [
                "Which we can use to fit our linear regression model."
            ]
        },
        {
            "cell_type": "code",
            "execution_count": 67,
            "metadata": {},
            "outputs": [],
            "source": [
                "lm = LinearRegression().fit(X,y)"
            ]
        },
        {
            "attachments": {},
            "cell_type": "markdown",
            "metadata": {},
            "source": [
                "Now we inspect the predictor coefficient values derived from the fit.\\\n",
                "These are the $\\beta$ values that maximize our $R^2$ loss."
            ]
        },
        {
            "cell_type": "code",
            "execution_count": 76,
            "metadata": {},
            "outputs": [
                {
                    "name": "stdout",
                    "output_type": "stream",
                    "text": [
                        "Model Coefficients\n",
                        "       TV:  0.046\n",
                        "    Radio:  0.189\n",
                        "Newspaper: -0.001\n",
                        "\n",
                        "      R^2: 0.8972\n"
                    ]
                }
            ],
            "source": [
                "# you can learn more about Python format strings here:\n",
                "# https://docs.python.org/3/tutorial/inputoutput.html\n",
                "print(f'{\"Model Coefficients\":>9}')\n",
                "for col, coef in zip(X.columns, lm.coef_):\n",
                "    print(f'{col:>9}: {coef:>6.3f}')\n",
                "print(f'\\n{\"R^2\":>9}: {lm.score(X,y):.4}')"
            ]
        },
        {
            "attachments": {},
            "cell_type": "markdown",
            "metadata": {},
            "source": [
                "As mentioned above, the original units are in thousands of dollars. To make discussion a bit simplier we'll convert this to dollars by multipling our original DataFrame by 1000. This will also help illustrate a point about **feature scaling**."
            ]
        },
        {
            "cell_type": "code",
            "execution_count": 48,
            "metadata": {},
            "outputs": [
                {
                    "data": {
                        "text/html": [
                            "<div>\n",
                            "<style scoped>\n",
                            "    .dataframe tbody tr th:only-of-type {\n",
                            "        vertical-align: middle;\n",
                            "    }\n",
                            "\n",
                            "    .dataframe tbody tr th {\n",
                            "        vertical-align: top;\n",
                            "    }\n",
                            "\n",
                            "    .dataframe thead th {\n",
                            "        text-align: right;\n",
                            "    }\n",
                            "</style>\n",
                            "<table border=\"1\" class=\"dataframe\">\n",
                            "  <thead>\n",
                            "    <tr style=\"text-align: right;\">\n",
                            "      <th></th>\n",
                            "      <th>TV</th>\n",
                            "      <th>Radio</th>\n",
                            "      <th>Newspaper</th>\n",
                            "      <th>Sales</th>\n",
                            "    </tr>\n",
                            "  </thead>\n",
                            "  <tbody>\n",
                            "    <tr>\n",
                            "      <th>1</th>\n",
                            "      <td>230100.0</td>\n",
                            "      <td>37800.0</td>\n",
                            "      <td>69200.0</td>\n",
                            "      <td>22100.0</td>\n",
                            "    </tr>\n",
                            "    <tr>\n",
                            "      <th>2</th>\n",
                            "      <td>44500.0</td>\n",
                            "      <td>39300.0</td>\n",
                            "      <td>45100.0</td>\n",
                            "      <td>10400.0</td>\n",
                            "    </tr>\n",
                            "    <tr>\n",
                            "      <th>3</th>\n",
                            "      <td>17200.0</td>\n",
                            "      <td>45900.0</td>\n",
                            "      <td>69300.0</td>\n",
                            "      <td>9300.0</td>\n",
                            "    </tr>\n",
                            "    <tr>\n",
                            "      <th>4</th>\n",
                            "      <td>151500.0</td>\n",
                            "      <td>41300.0</td>\n",
                            "      <td>58500.0</td>\n",
                            "      <td>18500.0</td>\n",
                            "    </tr>\n",
                            "    <tr>\n",
                            "      <th>5</th>\n",
                            "      <td>180800.0</td>\n",
                            "      <td>10800.0</td>\n",
                            "      <td>58400.0</td>\n",
                            "      <td>12900.0</td>\n",
                            "    </tr>\n",
                            "  </tbody>\n",
                            "</table>\n",
                            "</div>"
                        ],
                        "text/plain": [
                            "         TV    Radio  Newspaper    Sales\n",
                            "1  230100.0  37800.0    69200.0  22100.0\n",
                            "2   44500.0  39300.0    45100.0  10400.0\n",
                            "3   17200.0  45900.0    69300.0   9300.0\n",
                            "4  151500.0  41300.0    58500.0  18500.0\n",
                            "5  180800.0  10800.0    58400.0  12900.0"
                        ]
                    },
                    "execution_count": 48,
                    "metadata": {},
                    "output_type": "execute_result"
                }
            ],
            "source": [
                "# From info on this kind of assignment statement see:\n",
                "# https://python-reference.readthedocs.io/en/latest/docs/operators/multiplication_assignment.html\n",
                "df *= 1000\n",
                "df.head()"
            ]
        },
        {
            "attachments": {},
            "cell_type": "markdown",
            "metadata": {},
            "source": [
                "What do you expect to happen to the coefficients of the model now that it's been fit on scaled up data? Let's find out!"
            ]
        },
        {
            "cell_type": "code",
            "execution_count": 49,
            "metadata": {},
            "outputs": [
                {
                    "name": "stdout",
                    "output_type": "stream",
                    "text": [
                        "Model Coefficients\n",
                        "       TV:  0.046\n",
                        "    Radio:  0.189\n",
                        "Newspaper: -0.001\n",
                        "\n",
                        "R^2: 0.8972\n"
                    ]
                }
            ],
            "source": [
                "# refit a new regression model on the scaled data\n",
                "X = df.drop('Sales', axis=1)\n",
                "y = df.Sales.values\n",
                "lm = LinearRegression().fit(X,y)\n",
                "\n",
                "print(f'{\"Model Coefficients\":>9}')\n",
                "for col, coef in zip(X.columns, lm.coef_):\n",
                "    print(f'{col:>9}: {coef:>6.3f}')\n",
                "print(f'\\nR^2: {lm.score(X,y):.4}')"
            ]
        },
        {
            "attachments": {},
            "cell_type": "markdown",
            "metadata": {},
            "source": [
                "The coefficients and the loss are exactly the same! This is not a fluke. **Linear regession coeffients are invariant under scaling**. That's because we've scaled both the predictors *and* the response by the same amount.\n",
                "\n",
                "Think of it this way:\\\n",
                "If a \\$1,000 increase in the `TV` budget is associated with a $\\beta$ thousand dollar increase in `Sales`, then a \\$1 increase in `TV` will result in an observed $\\beta$ dollar increase in `Sales`."
            ]
        },
        {
            "attachments": {},
            "cell_type": "markdown",
            "metadata": {},
            "source": [
                "#### Visual Interpretation\n",
                "\n",
                "Let's create a visualization to help us interpret our model's coeffients.\\\n",
                "We'll use a horizontal bar plot."
            ]
        },
        {
            "cell_type": "code",
            "execution_count": 50,
            "metadata": {},
            "outputs": [
                {
                    "data": {
                        "image/png": "[encoded data removed]",
                        "text/plain": [
                            "<Figure size 576x216 with 1 Axes>"
                        ]
                    },
                    "metadata": {
                        "needs_background": "light"
                    },
                    "output_type": "display_data"
                }
            ],
            "source": [
                "plt.figure(figsize=(8,3))\n",
                "# column names to be displayed on the y-axis\n",
                "cols = X.columns\n",
                "# coeffient values from our fitted model (the intercept is not included)\n",
                "coefs = lm.coef_\n",
                "# create the horizontal barplot\n",
                "plt.barh(cols, coefs)\n",
                "# dotted, semi-transparent, black vertical line at zero\n",
                "plt.axvline(0, c='k', ls='--', alpha=0.5)\n",
                "# always label your axes\n",
                "plt.ylabel('Predictor')\n",
                "plt.xlabel('Coefficient Values')\n",
                "# and create an informative title\n",
                "plt.title('Coefficients of Linear Model Predicting Sales\\n from Newspaper, '\\\n",
                "            'Radio, and TV Advertising Budgets (in Dollars)');"
            ]
        },
        {
            "attachments": {},
            "cell_type": "markdown",
            "metadata": {},
            "source": [
                "**Q1**: Based on the plot above, advertising in which type of media has the largest effect on `Sales`?\n",
                "\n",
                "A. Newspaper\\\n",
                "B. Radio\\\n",
                "C. TV"
            ]
        },
        {
            "cell_type": "code",
            "execution_count": 51,
            "metadata": {},
            "outputs": [],
            "source": [
                "### edTest(test_Q1) ###\n",
                "# your answer here\n",
                "Q1_ANSWER = 'B' "
            ]
        },
        {
            "attachments": {},
            "cell_type": "markdown",
            "metadata": {},
            "source": [
                "**Q2**: If the newspaper advertising budget were higher, what difference might we expect to see in sales? \n",
                "\n",
                "A. There would be no change\\\n",
                "B. Sales would increase, but only slightly\\\n",
                "C. Sales would decrease, but only slightly\\"
            ]
        },
        {
            "cell_type": "code",
            "execution_count": 52,
            "metadata": {},
            "outputs": [],
            "source": [
                "### edTest(test_Q2) ###\n",
                "# your answer here\n",
                "Q2_ANSWER = 'C'"
            ]
        },
        {
            "attachments": {},
            "cell_type": "markdown",
            "metadata": {},
            "source": [
                "But what happens when our predictors are *not* all on the same scale?\\\n",
                "To find out, we'll change the units of the 3 budgets by converting them into different currencies. Use the following conversion rates for this exercise:"
            ]
        },
        {
            "attachments": {},
            "cell_type": "markdown",
            "metadata": {},
            "source": [
                "<div>\n",
                "    <div class='img' style='float:left;padding:1em'>\n",
                "        <img src='img/rupee_SL.jpg' style='height:px70;width:200px' alt='200 Sri Lankan Rupees = \\$1'>\n",
                "        <span style='clear:left;display:block'>200 Sri Lankan Rupee = \\$1</span>\n",
                "    </div>\n",
                "    <div class='img' style='float:left;padding:1em'>\n",
                "        <img src='img/won.jpg' style='height:px70;width:200px;float:up' alt='1,175 South Korean Won = \\$1'>\n",
                "        <span style='clear:left;display:block;align:center'>1,175 South Korean Won = \\$1</span>\n",
                "    </div>\n",
                "    <div class='img' style='float:left;padding:1em'>\n",
                "        <img src='img/cedi.jpg' style='height:px70;width:200px' alt='6 Chanaian Cedi = \\$1'>\n",
                "        <span style='clear:left;display:block;align:center'>6 Ghanaian Cedi = \\$1</span>\n",
                "    </div>\n",
                "</div>\n",
                "</div>\n",
                "<div style='content: \"\";clear: both;display:table;'>\n",
                "</div>"
            ]
        },
        {
            "cell_type": "code",
            "execution_count": 53,
            "metadata": {},
            "outputs": [],
            "source": [
                "# create a new DataFrame to store the converted budgets\n",
                "X2 = pd.DataFrame()\n",
                "X2['TV (Rupee)'] = 200 * df['TV'] # convert to Sri Lankan Rupee\n",
                "X2['Radio (Won)'] = 1175 * df['Radio'] # convert to South Korean Won\n",
                "X2['Newspaper (Cedi)'] = 6 * df['Newspaper'] # Convert to Ghanaian Cedi"
            ]
        },
        {
            "cell_type": "code",
            "execution_count": 54,
            "metadata": {},
            "outputs": [],
            "source": [
                "# we can use our original y as we have not converted the units for Sales\n",
                "lm2 = LinearRegression().fit(X2,y)"
            ]
        },
        {
            "attachments": {},
            "cell_type": "markdown",
            "metadata": {},
            "source": [
                "Let's look at the coefficient values from the fit on the converted budgets."
            ]
        },
        {
            "cell_type": "code",
            "execution_count": 55,
            "metadata": {},
            "outputs": [
                {
                    "name": "stdout",
                    "output_type": "stream",
                    "text": [
                        "Model Coefficients\n",
                        "      TV (Rupee):  0.00023\n",
                        "     Radio (Won):  0.00016\n",
                        "Newspaper (Cedi): -0.00017\n",
                        "\n",
                        "R^2: 0.8972\n"
                    ]
                }
            ],
            "source": [
                "print(f'{\"Model Coefficients\":>16}')\n",
                "for col, coef in zip(X2.columns, lm2.coef_):\n",
                "    print(f'{col:>16}: {coef:>8.5f}')\n",
                "print(f'\\nR^2: {lm2.score(X2,y):.4}')"
            ]
        },
        {
            "attachments": {},
            "cell_type": "markdown",
            "metadata": {},
            "source": [
                "This time, scaling our predictors but *not* the response clearly caused a change in our coefficients. Thinking about this question may help you us appreciate why.\n",
                "\n",
                "**Q3**: Assume that a \\\\$1 increase in the `Radio` budget is associated with an increase in `Sales` of $25. Then a **1 Won increase** in the `Radio` budget would see Sales increase by ___ dollars.\n",
                "\n",
                "\n",
                "*Hint:* 1,175 Won = $1"
            ]
        },
        {
            "cell_type": "code",
            "execution_count": 56,
            "metadata": {},
            "outputs": [],
            "source": [
                "### edTest(test_Q3) ###\n",
                "# your answer here\n",
                "Q3_ANSWER = 0.0212"
            ]
        },
        {
            "attachments": {},
            "cell_type": "markdown",
            "metadata": {},
            "source": [
                "\n",
                "**Q4**: How did your answer in **Q3** compare to the original hypothetical increase of $25? \n",
                "\n",
                "A. It was higher\\\n",
                "B. It was lower\\\n",
                "C. No change (scale invariant)"
            ]
        },
        {
            "cell_type": "code",
            "execution_count": 57,
            "metadata": {},
            "outputs": [],
            "source": [
                "### edTest(test_Q4) ###\n",
                "# your answer here\n",
                "Q4_ANSWER = 'B'"
            ]
        },
        {
            "attachments": {},
            "cell_type": "markdown",
            "metadata": {},
            "source": [
                "Now let's investigate how the coefficients changed relative to one another. Again, we'll use a helpful visualization."
            ]
        },
        {
            "cell_type": "code",
            "execution_count": 58,
            "metadata": {},
            "outputs": [
                {
                    "data": {
                        "image/png": "[encoded data removed]",
                        "text/plain": [
                            "<Figure size 576x216 with 1 Axes>"
                        ]
                    },
                    "metadata": {
                        "needs_background": "light"
                    },
                    "output_type": "display_data"
                }
            ],
            "source": [
                "plt.figure(figsize=(8,3))\n",
                "plt.barh(X2.columns, lm2.coef_)\n",
                "plt.axvline(0, c='k', ls='--', alpha=0.5)\n",
                "plt.ylabel('Predictor')\n",
                "plt.xlabel('Coefficient Values')\n",
                "plt.title('Coefficients of Linear Model Predicting Sales\\n from Newspaper, '\\\n",
                "            'Radio, and TV Advertising Budgets (Different Currencies)');\n"
            ]
        },
        {
            "attachments": {},
            "cell_type": "markdown",
            "metadata": {},
            "source": [
                "**Q5**: Based on the plot above, which advertising in which type of media has the *least* effect on sales?\n",
                "\n",
                "A. Newspaper\\\n",
                "B. Radio\\\n",
                "C. TV"
            ]
        },
        {
            "cell_type": "code",
            "execution_count": 59,
            "metadata": {},
            "outputs": [],
            "source": [
                "### edTest(test_Q5) ###\n",
                "# your answer here\n",
                "Q5_ANSWER = 'B' "
            ]
        },
        {
            "attachments": {},
            "cell_type": "markdown",
            "metadata": {},
            "source": [
                "**Q6**: True or False: This is the same interpretation we had in our original model where all budgets were in dollars."
            ]
        },
        {
            "cell_type": "code",
            "execution_count": 60,
            "metadata": {},
            "outputs": [],
            "source": [
                "### edTest(test_Q6) ###\n",
                "# Use the boolean values True or False\n",
                "# your answer here\n",
                "Q6_ANSWER = False"
            ]
        },
        {
            "attachments": {},
            "cell_type": "markdown",
            "metadata": {},
            "source": [
                "\n",
                "**Q7**: Imagine we have a 3rd regression models whose budgets have again been converted to 3 different currencies.\\\n",
                "True or False: we can compare the 2nd and 3rd models' MSE losses to determine which model's coefficients provide a more accurate interpretation of what type of media advertising has the largest effect on `Sales`."
            ]
        },
        {
            "cell_type": "code",
            "execution_count": 61,
            "metadata": {},
            "outputs": [],
            "source": [
                "### edTest(test_Q7) ###\n",
                "# Use the boolean values True or False\n",
                "# your answer here\n",
                "Q7_ANSWER = False"
            ]
        },
        {
            "attachments": {},
            "cell_type": "markdown",
            "metadata": {},
            "source": [
                "Finally, it's important to recognize the limits of the x-axis differ between the two bar plots we've seen so far. We can better appreciate this difference by ploting both with a shared x-axis."
            ]
        },
        {
            "cell_type": "code",
            "execution_count": 62,
            "metadata": {},
            "outputs": [
                {
                    "data": {
                        "image/png": "[encoded data removed]",
                        "text/plain": [
                            "<Figure size 576x432 with 2 Axes>"
                        ]
                    },
                    "metadata": {
                        "needs_background": "light"
                    },
                    "output_type": "display_data"
                }
            ],
            "source": [
                "fig, axes = plt.subplots(2,1, figsize=(8,6), sharex=True)\n",
                "\n",
                "axes[0].barh(X.columns, lm.coef_)\n",
                "axes[0].set_title('Dollars');\n",
                "axes[1].barh(X2.columns, lm2.coef_)\n",
                "axes[1].set_title('Different Currencies')\n",
                "for ax in axes:\n",
                "    ax.axvline(0, c='k', ls='--', alpha=0.5)\n",
                "axes[0].set_ylabel('Predictor')\n",
                "axes[1].set_xlabel('Coefficient Values');\n"
            ]
        },
        {
            "attachments": {},
            "cell_type": "markdown",
            "metadata": {},
            "source": [
                "We've seen that having our predictors on different scales can bias our interpretation of the coefficients. In a future notebook we'll look at one way of insuring that all our predictors are on the same scale."
            ]
        }
    ],
    "metadata": {
        "kernelspec": {
            "display_name": "Python 3",
            "language": "python",
            "name": "python3"
        },
        "language_info": {
            "codemirror_mode": {
                "name": "ipython",
                "version": 3
            },
            "file_extension": ".py",
            "mimetype": "text/x-python",
            "name": "python",
            "nbconvert_exporter": "python",
            "pygments_lexer": "ipython3",
            "version": "3.10.9"
        },
        "vscode": {
            "interpreter": {
                "hash": "1ba8ddd67eb72f666e9ed24e7ce7d0418c15b0cfb7e00f500f6fe4ad37231218"
            }
        }
    },
    "nbformat": 4,
    "nbformat_minor": 5
}
