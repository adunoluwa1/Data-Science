{
    "cells": [
        {
            "cell_type": "code",
            "execution_count": 134,
            "metadata": {},
            "outputs": [],
            "source": [
                "# Import necessary libraries\n",
                "import pandas as pd\n",
                "import numpy as np\n",
                "import matplotlib.pyplot as plt\n",
                "from sklearn.linear_model import LogisticRegression\n",
                "from sklearn.neighbors import KNeighborsClassifier\n",
                "from sklearn.impute import KNNImputer\n",
                "from sklearn.model_selection import train_test_split\n",
                "# Your code here\n"
            ]
        },
        {
            "cell_type": "code",
            "execution_count": 135,
            "metadata": {},
            "outputs": [
                {
                    "data": {
                        "text/html": [
                            "<div>\n",
                            "<style scoped>\n",
                            "    .dataframe tbody tr th:only-of-type {\n",
                            "        vertical-align: middle;\n",
                            "    }\n",
                            "\n",
                            "    .dataframe tbody tr th {\n",
                            "        vertical-align: top;\n",
                            "    }\n",
                            "\n",
                            "    .dataframe thead th {\n",
                            "        text-align: right;\n",
                            "    }\n",
                            "</style>\n",
                            "<table border=\"1\" class=\"dataframe\">\n",
                            "  <thead>\n",
                            "    <tr style=\"text-align: right;\">\n",
                            "      <th></th>\n",
                            "      <th>age</th>\n",
                            "      <th>sex</th>\n",
                            "      <th>cough</th>\n",
                            "      <th>fever</th>\n",
                            "      <th>chills</th>\n",
                            "      <th>sore_throat</th>\n",
                            "      <th>headache</th>\n",
                            "      <th>fatigue</th>\n",
                            "      <th>Urgency</th>\n",
                            "    </tr>\n",
                            "  </thead>\n",
                            "  <tbody>\n",
                            "    <tr>\n",
                            "      <th>0</th>\n",
                            "      <td>30.0</td>\n",
                            "      <td>1.0</td>\n",
                            "      <td>0.0</td>\n",
                            "      <td>0.0</td>\n",
                            "      <td>0.0</td>\n",
                            "      <td>0.0</td>\n",
                            "      <td>0.0</td>\n",
                            "      <td>0.0</td>\n",
                            "      <td>0</td>\n",
                            "    </tr>\n",
                            "    <tr>\n",
                            "      <th>1</th>\n",
                            "      <td>47.0</td>\n",
                            "      <td>1.0</td>\n",
                            "      <td>0.0</td>\n",
                            "      <td>0.0</td>\n",
                            "      <td>0.0</td>\n",
                            "      <td>0.0</td>\n",
                            "      <td>0.0</td>\n",
                            "      <td>0.0</td>\n",
                            "      <td>0</td>\n",
                            "    </tr>\n",
                            "    <tr>\n",
                            "      <th>2</th>\n",
                            "      <td>49.0</td>\n",
                            "      <td>1.0</td>\n",
                            "      <td>0.0</td>\n",
                            "      <td>0.0</td>\n",
                            "      <td>0.0</td>\n",
                            "      <td>0.0</td>\n",
                            "      <td>0.0</td>\n",
                            "      <td>0.0</td>\n",
                            "      <td>0</td>\n",
                            "    </tr>\n",
                            "    <tr>\n",
                            "      <th>3</th>\n",
                            "      <td>50.0</td>\n",
                            "      <td>0.0</td>\n",
                            "      <td>0.0</td>\n",
                            "      <td>0.0</td>\n",
                            "      <td>0.0</td>\n",
                            "      <td>0.0</td>\n",
                            "      <td>0.0</td>\n",
                            "      <td>0.0</td>\n",
                            "      <td>0</td>\n",
                            "    </tr>\n",
                            "    <tr>\n",
                            "      <th>4</th>\n",
                            "      <td>59.0</td>\n",
                            "      <td>0.0</td>\n",
                            "      <td>0.0</td>\n",
                            "      <td>1.0</td>\n",
                            "      <td>0.0</td>\n",
                            "      <td>0.0</td>\n",
                            "      <td>0.0</td>\n",
                            "      <td>0.0</td>\n",
                            "      <td>0</td>\n",
                            "    </tr>\n",
                            "  </tbody>\n",
                            "</table>\n",
                            "</div>"
                        ],
                        "text/plain": [
                            "    age  sex  cough  fever  chills  sore_throat  headache  fatigue  Urgency\n",
                            "0  30.0  1.0    0.0    0.0     0.0          0.0       0.0      0.0        0\n",
                            "1  47.0  1.0    0.0    0.0     0.0          0.0       0.0      0.0        0\n",
                            "2  49.0  1.0    0.0    0.0     0.0          0.0       0.0      0.0        0\n",
                            "3  50.0  0.0    0.0    0.0     0.0          0.0       0.0      0.0        0\n",
                            "4  59.0  0.0    0.0    1.0     0.0          0.0       0.0      0.0        0"
                        ]
                    },
                    "execution_count": 135,
                    "metadata": {},
                    "output_type": "execute_result"
                }
            ],
            "source": [
                "# Read the datafile \"covid.csv\"\n",
                "df = pd.read_csv(\"covid.csv\")\n",
                "\n",
                "# Take a quick look at the dataframe\n",
                "df.head()\n"
            ]
        },
        {
            "cell_type": "code",
            "execution_count": 136,
            "metadata": {},
            "outputs": [
                {
                    "data": {
                        "text/plain": [
                            "age             6\n",
                            "sex             8\n",
                            "cough          11\n",
                            "fever          15\n",
                            "chills          4\n",
                            "sore_throat     6\n",
                            "headache        2\n",
                            "fatigue         4\n",
                            "Urgency         0\n",
                            "dtype: int64"
                        ]
                    },
                    "execution_count": 136,
                    "metadata": {},
                    "output_type": "execute_result"
                }
            ],
            "source": [
                "# Check if there are any missing or Null values\n",
                "df.isnull().sum()\n"
            ]
        },
        {
            "cell_type": "code",
            "execution_count": 137,
            "metadata": {},
            "outputs": [
                {
                    "name": "stdout",
                    "output_type": "stream",
                    "text": [
                        "Number of rows with null values: 37\n"
                    ]
                }
            ],
            "source": [
                "### edTest(test_na) ###\n",
                "\n",
                "# Find the number of rows with missing values\n",
                "num_null = df.isnull().any(axis=1).sum()\n",
                "print(\"Number of rows with null values:\", num_null)\n"
            ]
        },
        {
            "cell_type": "code",
            "execution_count": 138,
            "metadata": {},
            "outputs": [],
            "source": [
                "# kNN impute the missing data\n",
                "# Use a k value of 5\n",
                "imputer = KNNImputer(n_neighbors=5)\n",
                "# Your code here\n"
            ]
        },
        {
            "cell_type": "code",
            "execution_count": 139,
            "metadata": {},
            "outputs": [],
            "source": [
                "### edTest(test_impute) ###\n",
                "# Replace the original dataframe with the imputed data, continue to use df for the dataframe\n",
                "df[['age','sex','cough','fever','chills','sore_throat','headache','fatigue']] = imputer.fit_transform(df[['age','sex','cough','fever','chills','sore_throat','headache','fatigue']])\n",
                "# Your code here\n",
                "    "
            ]
        },
        {
            "attachments": {},
            "cell_type": "markdown",
            "metadata": {},
            "source": [
                "## EDA"
            ]
        },
        {
            "cell_type": "code",
            "execution_count": 140,
            "metadata": {},
            "outputs": [
                {
                    "data": {
                        "image/png": "[encoded data removed]",
                        "text/plain": [
                            "<Figure size 640x480 with 1 Axes>"
                        ]
                    },
                    "metadata": {},
                    "output_type": "display_data"
                }
            ],
            "source": [
                "# Plot an appropriate graph to answer the following question\n",
                "plt.hist(df.age[df.Urgency==1], bins=8, label='Age')\n",
                "plt.show()\n",
                "# Your code here\n"
            ]
        },
        {
            "attachments": {},
            "cell_type": "markdown",
            "metadata": {},
            "source": [
                "### ⏸ Which age group has the most urgent need for a hospital bed?\n",
                "\n",
                "#### A. 60 - 70 \n",
                "\n",
                "#### B. 50 - 60 \n",
                "\n",
                "#### C. 20 - 30\n",
                "\n",
                "#### D. 40 - 50"
            ]
        },
        {
            "cell_type": "code",
            "execution_count": 141,
            "metadata": {},
            "outputs": [],
            "source": [
                "### edTest(test_chow1) ###\n",
                "# Submit an answer choice as a string below (eg. if you choose option A, put 'A')\n",
                "answer1 = 'D'\n"
            ]
        },
        {
            "cell_type": "code",
            "execution_count": 142,
            "metadata": {},
            "outputs": [
                {
                    "data": {
                        "text/plain": [
                            "array([0. , 1. , 0.6, 0.4, 0.2])"
                        ]
                    },
                    "execution_count": 142,
                    "metadata": {},
                    "output_type": "execute_result"
                }
            ],
            "source": [
                "df['cough'].unique()"
            ]
        },
        {
            "cell_type": "code",
            "execution_count": 143,
            "metadata": {},
            "outputs": [
                {
                    "data": {
                        "text/plain": [
                            "[34, 126, 3, 3]"
                        ]
                    },
                    "execution_count": 143,
                    "metadata": {},
                    "output_type": "execute_result"
                }
            ],
            "source": [
                "freq = []\n",
                "cols=['cough','fever','sore_throat','fatigue']\n",
                "for col in cols:\n",
                "    fq = df[col][df['Urgency']==1].apply(lambda x: 0 if x == 0 else 1).sum()\n",
                "    freq.append(fq)\n",
                "\n",
                "freq\n"
            ]
        },
        {
            "cell_type": "code",
            "execution_count": 144,
            "metadata": {},
            "outputs": [
                {
                    "data": {
                        "image/png": "[encoded data removed]",
                        "text/plain": [
                            "<Figure size 640x480 with 1 Axes>"
                        ]
                    },
                    "metadata": {},
                    "output_type": "display_data"
                }
            ],
            "source": [
                "# Plot an appropriate graph to answer the following question    \n",
                "# Your code here\n",
                "plt.bar(cols, freq)\n",
                "plt.show()"
            ]
        },
        {
            "attachments": {},
            "cell_type": "markdown",
            "metadata": {},
            "source": [
                "### ⏸ Among the following symptoms, which is the most common one for patients with urgent need of hospitalization?\n",
                "\n",
                "#### A. Cough\n",
                "\n",
                "#### B. Fever\n",
                "\n",
                "#### C. Sore Throat\n",
                "\n",
                "#### D. Fatigue"
            ]
        },
        {
            "cell_type": "code",
            "execution_count": 145,
            "metadata": {},
            "outputs": [],
            "source": [
                "### edTest(test_chow2) ###\n",
                "# Submit an answer choice as a string below (eg. if you choose option A, put 'A')\n",
                "answer2 = 'B'\n"
            ]
        },
        {
            "cell_type": "code",
            "execution_count": 146,
            "metadata": {},
            "outputs": [
                {
                    "data": {
                        "text/plain": [
                            "[34, 126, 3, 3]"
                        ]
                    },
                    "execution_count": 146,
                    "metadata": {},
                    "output_type": "execute_result"
                }
            ],
            "source": [
                "freq1 = []\n",
                "cols=['cough','fever','sore_throat','fatigue']\n",
                "for col in cols:\n",
                "    fq = df[col][df['Urgency']==0].apply(lambda x: 0 if x == 0 else 1).sum()\n",
                "    freq1.append(fq)\n",
                "\n",
                "freq"
            ]
        },
        {
            "cell_type": "code",
            "execution_count": 147,
            "metadata": {},
            "outputs": [
                {
                    "data": {
                        "text/plain": [
                            "<matplotlib.legend.Legend at 0x7fd643997be0>"
                        ]
                    },
                    "execution_count": 147,
                    "metadata": {},
                    "output_type": "execute_result"
                },
                {
                    "data": {
                        "image/png": "[encoded data removed]",
                        "text/plain": [
                            "<Figure size 1000x500 with 2 Axes>"
                        ]
                    },
                    "metadata": {},
                    "output_type": "display_data"
                }
            ],
            "source": [
                "# Plot an appropriate graph to answer the following question    \n",
                "# Your code here\n",
                "fig, ax = plt.subplots(1,2, figsize=(10,5))\n",
                "ax[0].bar(cols, freq, color ='red', label='Urgent')\n",
                "ax[1].bar(cols, freq1, label='Not Urgent')\n",
                "ax[0].legend()\n",
                "ax[1].legend()\n"
            ]
        },
        {
            "attachments": {},
            "cell_type": "markdown",
            "metadata": {},
            "source": [
                "### ⏸ As compared to patients with urgent need of hospitalization, patients with no urgency have cough as a more common symptom?\n",
                "\n",
                "#### A. True\n",
                "\n",
                "#### B. False\n",
                "\n",
                "#### C. It is the same\n",
                "\n",
                "#### D. Cannot say"
            ]
        },
        {
            "cell_type": "code",
            "execution_count": 148,
            "metadata": {},
            "outputs": [],
            "source": [
                "### edTest(test_chow3) ###\n",
                "# Submit an answer choice as a string below (eg. if you choose option A, put 'A')\n",
                "answer3 = 'A'\n"
            ]
        },
        {
            "attachments": {},
            "cell_type": "markdown",
            "metadata": {},
            "source": [
                "### Train Test Split"
            ]
        },
        {
            "cell_type": "code",
            "execution_count": 149,
            "metadata": {},
            "outputs": [],
            "source": [
                "### edTest(test_split) ###\n",
                "# Split the data into train and test sets with 70% for training\n",
                "# Use random state of 60 and set of data as the train split\n",
                "\n",
                "# Your code here\n",
                "df_train, df_test = train_test_split(df, train_size =0.7, random_state=60)"
            ]
        },
        {
            "cell_type": "code",
            "execution_count": 150,
            "metadata": {},
            "outputs": [],
            "source": [
                "# Save the train data into a csv called \"covid_train.csv\"\n",
                "# Remember to not include the default indices\n",
                "df_train.to_csv(\"covid_train.csv\")\n",
                "\n",
                "# Save the test data into a csv called \"covid_test.csv\"\n",
                "# Remember to not include the default indices\n",
                "df_test.to_csv(\"covid_test.csv\")\n"
            ]
        }
    ],
    "metadata": {
        "kernelspec": {
            "display_name": "Python 3",
            "language": "python",
            "name": "python3"
        },
        "language_info": {
            "name": "python",
            "version": "3.10.9 (tags/v3.10.9:1dd9be6, Dec  6 2022, 20:01:21) [MSC v.1934 64 bit (AMD64)]"
        },
        "vscode": {
            "interpreter": {
                "hash": "1ba8ddd67eb72f666e9ed24e7ce7d0418c15b0cfb7e00f500f6fe4ad37231218"
            }
        }
    },
    "nbformat": 4,
    "nbformat_minor": 4
}
