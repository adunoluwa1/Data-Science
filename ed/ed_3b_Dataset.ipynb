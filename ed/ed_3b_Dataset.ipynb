{
    "cells": [
        {
            "cell_type": "code",
            "execution_count": 1,
            "metadata": {},
            "outputs": [],
            "source": [
                "# Import necessary libraries\n",
                "import operator\n",
                "import numpy as np\n",
                "import pandas as pd\n",
                "import matplotlib.pyplot as plt\n",
                "from sklearn.metrics import mean_squared_error\n",
                "from sklearn.linear_model import LinearRegression\n",
                "from sklearn.model_selection import train_test_split\n",
                "from sklearn.preprocessing import PolynomialFeatures\n",
                "%matplotlib inline\n"
            ]
        },
        {
            "attachments": {},
            "cell_type": "markdown",
            "metadata": {},
            "source": [
                "### Reading the dataset"
            ]
        },
        {
            "cell_type": "code",
            "execution_count": 2,
            "metadata": {},
            "outputs": [
                {
                    "data": {
                        "text/html": [
                            "<div>\n",
                            "<style scoped>\n",
                            "    .dataframe tbody tr th:only-of-type {\n",
                            "        vertical-align: middle;\n",
                            "    }\n",
                            "\n",
                            "    .dataframe tbody tr th {\n",
                            "        vertical-align: top;\n",
                            "    }\n",
                            "\n",
                            "    .dataframe thead th {\n",
                            "        text-align: right;\n",
                            "    }\n",
                            "</style>\n",
                            "<table border=\"1\" class=\"dataframe\">\n",
                            "  <thead>\n",
                            "    <tr style=\"text-align: right;\">\n",
                            "      <th></th>\n",
                            "      <th>x</th>\n",
                            "      <th>y</th>\n",
                            "    </tr>\n",
                            "  </thead>\n",
                            "  <tbody>\n",
                            "    <tr>\n",
                            "      <th>0</th>\n",
                            "      <td>4.98</td>\n",
                            "      <td>24.0</td>\n",
                            "    </tr>\n",
                            "    <tr>\n",
                            "      <th>1</th>\n",
                            "      <td>9.14</td>\n",
                            "      <td>21.6</td>\n",
                            "    </tr>\n",
                            "    <tr>\n",
                            "      <th>2</th>\n",
                            "      <td>4.03</td>\n",
                            "      <td>34.7</td>\n",
                            "    </tr>\n",
                            "    <tr>\n",
                            "      <th>3</th>\n",
                            "      <td>2.94</td>\n",
                            "      <td>33.4</td>\n",
                            "    </tr>\n",
                            "    <tr>\n",
                            "      <th>4</th>\n",
                            "      <td>5.33</td>\n",
                            "      <td>36.2</td>\n",
                            "    </tr>\n",
                            "  </tbody>\n",
                            "</table>\n",
                            "</div>"
                        ],
                        "text/plain": [
                            "      x     y\n",
                            "0  4.98  24.0\n",
                            "1  9.14  21.6\n",
                            "2  4.03  34.7\n",
                            "3  2.94  33.4\n",
                            "4  5.33  36.2"
                        ]
                    },
                    "execution_count": 2,
                    "metadata": {},
                    "output_type": "execute_result"
                }
            ],
            "source": [
                "# Read the file \"dataset.csv\" as a Pandas dataframe\n",
                "df = pd.read_csv(r\"G:\\My Drive\\4b - Courses\\9 - Data Science\\Datasets\\ALL CSV FILES - 2nd Edition\\dataset.csv\")\n",
                "\n",
                "# Take a quick look at the dataset\n",
                "df.head()\n"
            ]
        },
        {
            "cell_type": "code",
            "execution_count": 3,
            "metadata": {},
            "outputs": [],
            "source": [
                "# Assign the values of the x and y column values to the \n",
                "# predictor and response variables\n",
                "x = df[['x']].values\n",
                "y = df.y.values\n"
            ]
        },
        {
            "attachments": {},
            "cell_type": "markdown",
            "metadata": {},
            "source": [
                "### Train-validation split"
            ]
        },
        {
            "cell_type": "code",
            "execution_count": 4,
            "metadata": {
                "collapsed": true
            },
            "outputs": [],
            "source": [
                "### edTest(test_random) ###\n",
                "\n",
                "# Split the dataset into train and validation sets with 75% training set\n",
                "# Set random_state=1\n",
                "x_train, x_val, y_train, y_val = train_test_split(x,y,train_size = 0.75, random_state=1)\n"
            ]
        },
        {
            "attachments": {},
            "cell_type": "markdown",
            "metadata": {},
            "source": [
                "### Computing the train and validation error in terms of MSE"
            ]
        },
        {
            "cell_type": "code",
            "execution_count": 5,
            "metadata": {},
            "outputs": [],
            "source": [
                "### edTest(test_regression) ###\n",
                "\n",
                "# To iterate over the range, select the maximum degree of the polynomial\n",
                "maxdeg = 5\n",
                "\n",
                "# Create two empty lists to store training and validation MSEs\n",
                "training_error, validation_error = [],[]\n",
                "\n",
                "# Loop through the degrees of the polynomial to create different models\n",
                "for d in range(maxdeg):\n",
                "    \n",
                "    # Compute the polynomial features for the current degree \n",
                "    # for the train set\n",
                "    x_poly_train = PolynomialFeatures(degree = d).fit_transform(x_train)\n",
                "\n",
                "    # Compute the polynomial features for the validation set\n",
                "    x_poly_val = PolynomialFeatures(degree = d).fit_transform(x_val)\n",
                "    \n",
                "    # Initialize a linear regression model, \n",
                "    # since polynomialfeatures adds a bias column itself set fit_intercept = False\n",
                "    lreg = LinearRegression()\n",
                "\n",
                "    # Fit the model on the train data\n",
                "    lreg.fit(x_poly_train,y_train)\n",
                "    \n",
                "    # Use the trained model to predict on the transformed train data\n",
                "    y_train_pred = lreg.predict(x_poly_train)\n",
                "\n",
                "    # Use the trained model to predict on the transformed validation data\n",
                "    y_val_pred = lreg.predict(x_poly_val)\n",
                "    \n",
                "    # Compute the MSE on the train predictions\n",
                "    training_error.append(mean_squared_error(y_train_pred, y_train))\n",
                "\n",
                "    # Compute the MSE on the validation predictions\n",
                "    validation_error.append(mean_squared_error(y_val_pred,y_val))\n",
                "    "
            ]
        },
        {
            "attachments": {},
            "cell_type": "markdown",
            "metadata": {},
            "source": [
                "### Finding the best degree"
            ]
        },
        {
            "cell_type": "code",
            "execution_count": 6,
            "metadata": {},
            "outputs": [
                {
                    "name": "stdout",
                    "output_type": "stream",
                    "text": [
                        "The best degree of the model is 2\n"
                    ]
                }
            ],
            "source": [
                "### edTest(test_best_degree) ###\n",
                "\n",
                "# Helper code to compute the best degree, which is the model \n",
                "# with the lowest validation error\n",
                "min_mse = min(validation_error)\n",
                "best_degree = validation_error.index(min_mse)\n",
                "\n",
                "# Print the degree of the best model computed above\n",
                "print(\"The best degree of the model is\",best_degree)\n"
            ]
        },
        {
            "attachments": {},
            "cell_type": "markdown",
            "metadata": {},
            "source": [
                "### Plotting the error graph"
            ]
        },
        {
            "cell_type": "code",
            "execution_count": 7,
            "metadata": {
                "collapsed": true
            },
            "outputs": [
                {
                    "data": {
                        "image/png": "[encoded data removed]",
                        "text/plain": [
                            "<Figure size 432x288 with 1 Axes>"
                        ]
                    },
                    "metadata": {
                        "needs_background": "light"
                    },
                    "output_type": "display_data"
                }
            ],
            "source": [
                "# Plot the errors as a function of increasing d value to visualise the training \n",
                "# and testing errors\n",
                "fig, ax = plt.subplots()\n",
                "\n",
                "# Plot the training error with labels\n",
                "ax.plot(training_error, color='#FF7E79', alpha=0.4, label='Training Error')\n",
                "\n",
                "# Plot the validation error with labels\n",
                "ax.plot(validation_error, color='#007D66', alpha=0.4, label='Validation Error')\n",
                "\n",
                "# Set the plot labels and legends\n",
                "ax.set_xlabel('Degree of Polynomial')\n",
                "ax.set_ylabel('Mean Squared Error')\n",
                "ax.legend(loc = 'best')\n",
                "ax.set_yscale('log')\n",
                "plt.show();\n"
            ]
        },
        {
            "attachments": {},
            "cell_type": "markdown",
            "metadata": {},
            "source": [
                "#### ⏸ If you run the exercise with a random state of 0, do you notice any change? What would you attribute this change to?"
            ]
        },
        {
            "cell_type": "code",
            "execution_count": 8,
            "metadata": {},
            "outputs": [],
            "source": [
                "### edTest(test_chow1) ###\n",
                "# Submit an answer choice as a string below \n",
                "answer1 = 'Validation data selection'"
            ]
        }
    ],
    "metadata": {
        "kernelspec": {
            "display_name": "Python 3",
            "language": "python",
            "name": "python3"
        },
        "language_info": {
            "codemirror_mode": {
                "name": "ipython",
                "version": 3
            },
            "file_extension": ".py",
            "mimetype": "text/x-python",
            "name": "python",
            "nbconvert_exporter": "python",
            "pygments_lexer": "ipython3",
            "version": "3.10.9 (tags/v3.10.9:1dd9be6, Dec  6 2022, 20:01:21) [MSC v.1934 64 bit (AMD64)]"
        },
        "vscode": {
            "interpreter": {
                "hash": "1ba8ddd67eb72f666e9ed24e7ce7d0418c15b0cfb7e00f500f6fe4ad37231218"
            }
        }
    },
    "nbformat": 4,
    "nbformat_minor": 4
}
