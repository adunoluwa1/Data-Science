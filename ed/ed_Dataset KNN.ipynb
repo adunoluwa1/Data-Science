{
    "cells": [
        {
            "cell_type": "code",
            "execution_count": 27,
            "metadata": {
                "scrolled": true
            },
            "outputs": [],
            "source": [
                "# Import necessary libraries\n",
                "import operator\n",
                "%matplotlib inline\n",
                "import numpy as np\n",
                "import pandas as pd\n",
                "import matplotlib.pyplot as plt\n",
                "from prettytable import PrettyTable\n",
                "from sklearn.metrics import mean_squared_error\n",
                "from sklearn.neighbors import KNeighborsRegressor\n",
                "from sklearn.linear_model import LinearRegression\n",
                "from sklearn.model_selection import train_test_split\n",
                "from sklearn.preprocessing import PolynomialFeatures\n"
            ]
        },
        {
            "cell_type": "code",
            "execution_count": 28,
            "metadata": {},
            "outputs": [
                {
                    "data": {
                        "text/html": [
                            "<div>\n",
                            "<style scoped>\n",
                            "    .dataframe tbody tr th:only-of-type {\n",
                            "        vertical-align: middle;\n",
                            "    }\n",
                            "\n",
                            "    .dataframe tbody tr th {\n",
                            "        vertical-align: top;\n",
                            "    }\n",
                            "\n",
                            "    .dataframe thead th {\n",
                            "        text-align: right;\n",
                            "    }\n",
                            "</style>\n",
                            "<table border=\"1\" class=\"dataframe\">\n",
                            "  <thead>\n",
                            "    <tr style=\"text-align: right;\">\n",
                            "      <th></th>\n",
                            "      <th>x</th>\n",
                            "      <th>y</th>\n",
                            "    </tr>\n",
                            "  </thead>\n",
                            "  <tbody>\n",
                            "    <tr>\n",
                            "      <th>0</th>\n",
                            "      <td>4.98</td>\n",
                            "      <td>24.0</td>\n",
                            "    </tr>\n",
                            "    <tr>\n",
                            "      <th>1</th>\n",
                            "      <td>9.14</td>\n",
                            "      <td>21.6</td>\n",
                            "    </tr>\n",
                            "    <tr>\n",
                            "      <th>2</th>\n",
                            "      <td>4.03</td>\n",
                            "      <td>34.7</td>\n",
                            "    </tr>\n",
                            "    <tr>\n",
                            "      <th>3</th>\n",
                            "      <td>2.94</td>\n",
                            "      <td>33.4</td>\n",
                            "    </tr>\n",
                            "    <tr>\n",
                            "      <th>4</th>\n",
                            "      <td>5.33</td>\n",
                            "      <td>36.2</td>\n",
                            "    </tr>\n",
                            "  </tbody>\n",
                            "</table>\n",
                            "</div>"
                        ],
                        "text/plain": [
                            "      x     y\n",
                            "0  4.98  24.0\n",
                            "1  9.14  21.6\n",
                            "2  4.03  34.7\n",
                            "3  2.94  33.4\n",
                            "4  5.33  36.2"
                        ]
                    },
                    "execution_count": 28,
                    "metadata": {},
                    "output_type": "execute_result"
                }
            ],
            "source": [
                "# Load the data from the csv file\n",
                "df = pd.read_csv(\"dataset.csv\")\n",
                "\n",
                "# Take a quick look at the data\n",
                "df.head()\n"
            ]
        },
        {
            "cell_type": "code",
            "execution_count": 29,
            "metadata": {},
            "outputs": [],
            "source": [
                "# Use the values of column x as the predictor variable\n",
                "x = df[['x']].values\n",
                "\n",
                "# Use the values of column y as the response variable\n",
                "y = df['y'].values\n"
            ]
        },
        {
            "cell_type": "code",
            "execution_count": 30,
            "metadata": {},
            "outputs": [],
            "source": [
                "### edTest(test_split) ###\n",
                "\n",
                "# Split the data into train and test splits\n",
                "# Set aside 25% for testing with a random state of 1\n",
                "x_train, x_test, y_train, y_test = train_test_split(x,y, test_size=0.25, random_state=1)\n"
            ]
        },
        {
            "cell_type": "code",
            "execution_count": 31,
            "metadata": {},
            "outputs": [],
            "source": [
                "# Create an empty list to store test MSEs\n",
                "test_error = []\n"
            ]
        },
        {
            "attachments": {},
            "cell_type": "markdown",
            "metadata": {},
            "source": [
                "### Linear Regression"
            ]
        },
        {
            "cell_type": "code",
            "execution_count": 32,
            "metadata": {},
            "outputs": [],
            "source": [
                "### edTest(test_linear_mse) ###\n",
                "\n",
                "# Initialize a simple Linear Regression model\n",
                "model = LinearRegression()\n",
                "\n",
                "# Fit the model on the train data\n",
                "model.fit(x_train,y_train)\n",
                "\n",
                "# Predict using the trained model on the test data\n",
                "y_pred = model.predict(x_test)\n",
                "\n",
                "# Compute the MSE of the test predictions\n",
                "mse = mean_squared_error(y_pred, y_test)\n",
                "\n",
                "# Append the error to the list initialized above\n",
                "test_error.append(mse)\n"
            ]
        },
        {
            "attachments": {},
            "cell_type": "markdown",
            "metadata": {},
            "source": [
                "### Polynomial Regression"
            ]
        },
        {
            "cell_type": "code",
            "execution_count": 33,
            "metadata": {},
            "outputs": [],
            "source": [
                "### edTest(test_poly_mse) ###\n",
                "\n",
                "# Initialize a list of degree values to create polynomial features\n",
                "degree_list = [2,5]\n",
                "\n",
                "# Run a for loop through the degrees of the polynomial\n",
                "for d in degree_list:\n",
                "    \n",
                "    # Compute the polynomial features for the train data, for the current degree\n",
                "    X_train = PolynomialFeatures(d).fit_transform(x_train)\n",
                "    \n",
                "    # Compute the polynomial features for the test data, for the current degree\n",
                "    X_test = PolynomialFeatures(d).fit_transform(x_test)\n",
                "    \n",
                "    # Initialize a linear regression model\n",
                "    lreg = LinearRegression()\n",
                "    \n",
                "    # Fit the linear model on the transformed train data\n",
                "    lreg.fit(X_train,y_train)\n",
                "    \n",
                "    # Predict using the trained model on the test data\n",
                "    y_pred = lreg.predict(X_test)\n",
                "    \n",
                "    # Compute the MSE of the test predictions\n",
                "    mse = mean_squared_error(y_pred, y_test)\n",
                "\n",
                "    # Append the error to the list initialized above\n",
                "    test_error.append(mse)\n"
            ]
        },
        {
            "attachments": {},
            "cell_type": "markdown",
            "metadata": {},
            "source": [
                "### kNN Regression"
            ]
        },
        {
            "cell_type": "code",
            "execution_count": 34,
            "metadata": {},
            "outputs": [],
            "source": [
                "### edTest(test_knn_mse) ###\n",
                "\n",
                "# Initialize a list of k values to specify the number of neighbors\n",
                "knn_list = [1,20]\n",
                "\n",
                "# Loop through the k values from the list defined above\n",
                "for i in knn_list:\n",
                "    \n",
                "    # Initialize a kNN model with the current k value\n",
                "    model = KNeighborsRegressor(int(i))\n",
                "    \n",
                "    # Fit the model on the train data\n",
                "    model.fit(x_train,y_train)\n",
                "    \n",
                "    # Predict using the trained model on the test data\n",
                "    y_pred = model.predict(x_test)\n",
                "    \n",
                "    # Compute the MSE of the test predictions\n",
                "    mse = mean_squared_error(y_pred,y_test)\n",
                "\n",
                "    # Append the error to the list initialized above\n",
                "    test_error.append(mse)\n",
                "    "
            ]
        },
        {
            "cell_type": "code",
            "execution_count": 35,
            "metadata": {},
            "outputs": [
                {
                    "name": "stdout",
                    "output_type": "stream",
                    "text": [
                        "+--------------------------------+-------+\n",
                        "|             Model              |  MSE  |\n",
                        "+--------------------------------+-------+\n",
                        "|       Linear Regression        | 13.58 |\n",
                        "| Polynomial Model with Degree 2 |  5.01 |\n",
                        "| Polynomial Model with Degree 5 | 92.27 |\n",
                        "|       KNN Model with k=1       | 70.56 |\n",
                        "|      KNN Model with k=20       | 47.26 |\n",
                        "+--------------------------------+-------+\n"
                    ]
                }
            ],
            "source": [
                "# Helper code to visualize the MSE of the 5 models \n",
                "pt = PrettyTable()\n",
                "pt.field_names = [\"Model\",\"MSE\"]\n",
                "pt.add_row([\"Linear Regression\", round(test_error[0],2)])\n",
                "pt.add_row([\"Polynomial Model with Degree 2\", round(test_error[1],2)])\n",
                "pt.add_row([\"Polynomial Model with Degree 5\", round(test_error[2],2)])\n",
                "pt.add_row([\"KNN Model with k=1\", round(test_error[3],2)])\n",
                "pt.add_row([\"KNN Model with k=20\", round(test_error[4],2)])\n",
                "print(pt)\n"
            ]
        }
    ],
    "metadata": {
        "kernelspec": {
            "display_name": "Python 3",
            "language": "python",
            "name": "python3"
        },
        "language_info": {
            "name": "python",
            "version": "3.10.9 (tags/v3.10.9:1dd9be6, Dec  6 2022, 20:01:21) [MSC v.1934 64 bit (AMD64)]"
        },
        "vscode": {
            "interpreter": {
                "hash": "1ba8ddd67eb72f666e9ed24e7ce7d0418c15b0cfb7e00f500f6fe4ad37231218"
            }
        }
    },
    "nbformat": 4,
    "nbformat_minor": 4
}
