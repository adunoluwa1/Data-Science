{
    "metadata": {
        "kernelspec": {
            "name": "python3",
            "display_name": "Python 3 (ipykernel)",
            "language": "python"
        }
    },
    "nbformat": 4,
    "nbformat_minor": 4,
    "cells": [
        {
            "cell_type": "code",
            "execution_count": 46,
            "metadata": {
                "collapsed": true
            },
            "outputs": [],
            "source": [
                "# Import necessary libraries\n",
                "%matplotlib inline\n",
                "import pandas as pd\n",
                "import numpy as np\n",
                "import matplotlib.pyplot as plt\n",
                "from sklearn import preprocessing\n",
                "from sklearn.linear_model import Lasso\n",
                "from sklearn.linear_model import Ridge\n",
                "from sklearn.metrics import mean_squared_error\n",
                "from sklearn.linear_model import LinearRegression\n",
                "from sklearn.model_selection import train_test_split\n",
                "from sklearn.preprocessing import PolynomialFeatures\n",
                ""
            ]
        },
        {
            "attachments": {},
            "cell_type": "markdown",
            "metadata": {},
            "source": [
                "### Reading the dataset"
            ]
        },
        {
            "cell_type": "code",
            "execution_count": 47,
            "metadata": {
                "collapsed": true
            },
            "outputs": [],
            "source": [
                "# Read the file \"Boston_housing.csv\" as a Pandas dataframe\n",
                "df = pd.read_csv(\"Boston_housing.csv\")\n",
                ""
            ]
        },
        {
            "attachments": {},
            "cell_type": "markdown",
            "metadata": {},
            "source": [
                "## Predictors \u0026 Response variables\n",
                "\n",
                "Select the following columns as predictors\n",
                "- crim\n",
                "- indus\n",
                "- nox\n",
                "- rm\n",
                "- age\n",
                "- dis\n",
                "- rad\n",
                "- tax\n",
                "- ptratio\n",
                "- black\n",
                "- lstat\n",
                "\n",
                "#### Select the 'medv' column as response variable"
            ]
        },
        {
            "cell_type": "code",
            "execution_count": 48,
            "metadata": {},
            "outputs": [],
            "source": [
                "# Select a subdataframe of predictors mentioned above\n",
                "X = df[['crim','indus','nox','rm','age','dis','rad','tax','ptratio','black','lstat']]\n",
                "\n",
                "# Normalize the values of the dataframe \n",
                "X_norm = preprocessing.normalize(X, axis=0)\n",
                "\n",
                "# Select medv as the response variable\n",
                "y = df['medv']\n",
                ""
            ]
        },
        {
            "attachments": {},
            "cell_type": "markdown",
            "metadata": {},
            "source": [
                "### Split the dataset into train and validation sets\n",
                ""
            ]
        },
        {
            "cell_type": "code",
            "execution_count": 49,
            "metadata": {},
            "outputs": [],
            "source": [
                "### edTest(test_random) ###\n",
                "# Split the data into train and validation sets with 70% train data and\n",
                "# random_state as 31\n",
                "X_train, X_val, y_train, y_val = train_test_split(X,y,train_size=0.7,random_state=31)\n",
                ""
            ]
        },
        {
            "attachments": {},
            "cell_type": "markdown",
            "metadata": {},
            "source": [
                "### Multi-linear Regression Analysis"
            ]
        },
        {
            "cell_type": "code",
            "execution_count": 50,
            "metadata": {
                "collapsed": true
            },
            "outputs": [],
            "source": [
                "# Initialize a Linear Regression model\n",
                "lreg = LinearRegression()\n",
                "\n",
                "# Fit the linear model on the train data\n",
                "lreg.fit(X_train,y_train)\n",
                "\n",
                "# Predict on the validation data\n",
                "y_val_pred = lreg.predict(X_val)\n",
                ""
            ]
        },
        {
            "cell_type": "code",
            "execution_count": 51,
            "metadata": {
                "collapsed": true
            },
            "outputs": [
                {
                    "name": "stdout",
                    "output_type": "stream",
                    "text": "Multi-linear regression validation MSE is 21.581146124032546\n"
                }
            ],
            "source": [
                "# Use the mean_squared_error function to compute the validation mse\n",
                "mse = mean_squared_error(y_val_pred,y_val)\n",
                "\n",
                "# Print the MSE value\n",
                "print (\"Multi-linear regression validation MSE is\", mse)\n",
                ""
            ]
        },
        {
            "attachments": {},
            "cell_type": "markdown",
            "metadata": {},
            "source": [
                "### Obtaining the coefficients of the predictors"
            ]
        },
        {
            "cell_type": "code",
            "execution_count": 52,
            "metadata": {},
            "outputs": [],
            "source": [
                "# Helper code to create a dictionary of the coefficients \n",
                "# along with the predictors as keys\n",
                "lreg_coef = dict(zip(X.columns, np.transpose(lreg.coef_)))\n",
                "\n",
                "# Linear regression coefficients for plotting\n",
                "lreg_x = list(lreg_coef.keys())\n",
                "lreg_y = list(lreg_coef.values())\n",
                ""
            ]
        },
        {
            "cell_type": "code",
            "execution_count": 53,
            "metadata": {},
            "outputs": [],
            "source": [
                "alpha= 0.008"
            ]
        },
        {
            "attachments": {},
            "cell_type": "markdown",
            "metadata": {},
            "source": [
                "### Implementing Lasso regularization"
            ]
        },
        {
            "cell_type": "code",
            "execution_count": 54,
            "metadata": {
                "collapsed": true
            },
            "outputs": [],
            "source": [
                "# Create a Lasso Regression model with alpha as 0.008\n",
                "lasso_reg = Lasso(alpha=alpha)\n",
                "\n",
                "# Fit the model on the train data\n",
                "lasso_reg.fit(X_train,y_train)\n",
                "\n",
                "# Predict on the validation data using the trained model\n",
                "y_val_pred =lasso_reg.predict(X_val)\n",
                ""
            ]
        },
        {
            "attachments": {},
            "cell_type": "markdown",
            "metadata": {},
            "source": [
                "### Computing the MSE with Lasso regularization"
            ]
        },
        {
            "cell_type": "code",
            "execution_count": 55,
            "metadata": {
                "collapsed": true
            },
            "outputs": [
                {
                    "name": "stdout",
                    "output_type": "stream",
                    "text": "Lasso validation MSE is 21.70503127596723\n"
                }
            ],
            "source": [
                "# Calculate the validation MSE\n",
                "mse_lasso = mean_squared_error(y_val_pred,y_val)\n",
                "\n",
                "# Print the validation MSE\n",
                "print (\"Lasso validation MSE is\", mse_lasso)\n",
                ""
            ]
        },
        {
            "cell_type": "code",
            "execution_count": 56,
            "metadata": {
                "collapsed": true
            },
            "outputs": [],
            "source": [
                "# Hhelper code to make a dictionary of the predictors \n",
                "# along with the coefficients associated with them\n",
                "lasso_coef = dict(zip(X.columns, np.transpose(lasso_reg.coef_))) \n",
                "\n",
                "# Get the Lasso regularisation coefficients for plotting\n",
                "lasso_x = list(lasso_coef.keys())\n",
                "lasso_y = list(lasso_coef.values())\n",
                ""
            ]
        },
        {
            "attachments": {},
            "cell_type": "markdown",
            "metadata": {},
            "source": [
                "### Implementing Ridge regularization"
            ]
        },
        {
            "cell_type": "code",
            "execution_count": 57,
            "metadata": {
                "collapsed": true
            },
            "outputs": [],
            "source": [
                "# Create a Ridge Regression model with alpha as 0.008\n",
                "ridgeReg = Ridge(alpha=alpha)\n",
                "\n",
                "# Fit the model on the train data\n",
                "ridgeReg.fit(X_train,y_train)\n",
                "\n",
                "# Predict the trained model on the validation data\n",
                "y_val_pred = ridgeReg.predict(X_val)\n",
                ""
            ]
        },
        {
            "attachments": {},
            "cell_type": "markdown",
            "metadata": {},
            "source": [
                "### Computing the MSE with Ridge regularization"
            ]
        },
        {
            "cell_type": "code",
            "execution_count": 58,
            "metadata": {
                "collapsed": true
            },
            "outputs": [
                {
                    "name": "stdout",
                    "output_type": "stream",
                    "text": "Ridge validation MSE is 21.586820373447566\n"
                }
            ],
            "source": [
                "### edTest(test_mse) ###\n",
                "\n",
                "# Calculate the validation MSE\n",
                "mse_ridge = mean_squared_error(y_val_pred,y_val)\n",
                "\n",
                "# Print he valdiation MSE\n",
                "print (\"Ridge validation MSE is\", mse_ridge)\n",
                ""
            ]
        },
        {
            "attachments": {},
            "cell_type": "markdown",
            "metadata": {},
            "source": [
                "### Obtaining the coefficients of the predictors"
            ]
        },
        {
            "cell_type": "code",
            "execution_count": 59,
            "metadata": {
                "collapsed": true
            },
            "outputs": [],
            "source": [
                "# Helper code to make a dictionary of the predictors \n",
                "# along with the coefficients associated with them \n",
                "ridge_coef = dict(zip(X.columns, np.transpose(ridgeReg.coef_))) \n",
                "\n",
                "# Ridge regularisation coefficients for plotting\n",
                "ridge_x = list(ridge_coef.keys())\n",
                "ridge_y = list(ridge_coef.values())\n",
                ""
            ]
        },
        {
            "attachments": {},
            "cell_type": "markdown",
            "metadata": {},
            "source": [
                "### Plotting the graph"
            ]
        },
        {
            "cell_type": "code",
            "execution_count": 60,
            "metadata": {
                "collapsed": true
            },
            "outputs": [
                {
                    "data": {
                        "image/png": "[encoded data removed]",
                        "text/plain": "\u003cFigure size 640x480 with 1 Axes\u003e"
                    },
                    "metadata": {},
                    "output_type": "display_data"
                }
            ],
            "source": [
                "# Helper code below to visualise your results\n",
                "\n",
                "plt.rcdefaults()\n",
                "\n",
                "plt.barh(lreg_x,lreg_y,1.0, align='edge',color=\"#D3B4B4\", label=\"Linear Regression\")\n",
                "plt.barh(lasso_x,lasso_y,0.75 ,align='edge',color=\"#81BDB2\",label = \"Lasso regularisation\")\n",
                "plt.barh(ridge_x,ridge_y,0.25 ,align='edge',color=\"#7E7EC0\", label=\"Ridge regularisation\")\n",
                "plt.grid(linewidth=0.2)\n",
                "plt.xlabel(\"Coefficient\")\n",
                "plt.ylabel(\"Predictors\")\n",
                "plt.legend(loc='best')\n",
                "plt.show()\n",
                ""
            ]
        },
        {
            "attachments": {},
            "cell_type": "markdown",
            "metadata": {},
            "source": [
                "# ⏸Pause and Think about it \n",
                "\n",
                "#### ⏸ How does the performance of Lasso and Ridge regression compare with that of Linear regression?\n",
                "\n",
                "#### ⏸ Change the alpha values for both, Lasso and Ridge, to 1000. What happens to the coefficients?"
            ]
        }
    ]
}
