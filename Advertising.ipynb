{
 "cells": [
  {
   "cell_type": "code",
   "execution_count": 39,
   "metadata": {},
   "outputs": [],
   "source": [
    "import pandas as pd\n",
    "import numpy as np\n",
    "import matplotlib.pyplot as plt\n",
    "from scipy import stats"
   ]
  },
  {
   "attachments": {},
   "cell_type": "markdown",
   "metadata": {},
   "source": [
    "## Data Preparation"
   ]
  },
  {
   "cell_type": "code",
   "execution_count": 40,
   "metadata": {},
   "outputs": [
    {
     "data": {
      "text/html": [
       "<div>\n",
       "<style scoped>\n",
       "    .dataframe tbody tr th:only-of-type {\n",
       "        vertical-align: middle;\n",
       "    }\n",
       "\n",
       "    .dataframe tbody tr th {\n",
       "        vertical-align: top;\n",
       "    }\n",
       "\n",
       "    .dataframe thead th {\n",
       "        text-align: right;\n",
       "    }\n",
       "</style>\n",
       "<table border=\"1\" class=\"dataframe\">\n",
       "  <thead>\n",
       "    <tr style=\"text-align: right;\">\n",
       "      <th></th>\n",
       "      <th>Unnamed: 0</th>\n",
       "      <th>TV</th>\n",
       "      <th>radio</th>\n",
       "      <th>newspaper</th>\n",
       "      <th>sales</th>\n",
       "    </tr>\n",
       "  </thead>\n",
       "  <tbody>\n",
       "    <tr>\n",
       "      <th>0</th>\n",
       "      <td>1</td>\n",
       "      <td>230.1</td>\n",
       "      <td>37.8</td>\n",
       "      <td>69.2</td>\n",
       "      <td>22.1</td>\n",
       "    </tr>\n",
       "    <tr>\n",
       "      <th>1</th>\n",
       "      <td>2</td>\n",
       "      <td>44.5</td>\n",
       "      <td>39.3</td>\n",
       "      <td>45.1</td>\n",
       "      <td>10.4</td>\n",
       "    </tr>\n",
       "    <tr>\n",
       "      <th>2</th>\n",
       "      <td>3</td>\n",
       "      <td>17.2</td>\n",
       "      <td>45.9</td>\n",
       "      <td>69.3</td>\n",
       "      <td>9.3</td>\n",
       "    </tr>\n",
       "    <tr>\n",
       "      <th>3</th>\n",
       "      <td>4</td>\n",
       "      <td>151.5</td>\n",
       "      <td>41.3</td>\n",
       "      <td>58.5</td>\n",
       "      <td>18.5</td>\n",
       "    </tr>\n",
       "    <tr>\n",
       "      <th>4</th>\n",
       "      <td>5</td>\n",
       "      <td>180.8</td>\n",
       "      <td>10.8</td>\n",
       "      <td>58.4</td>\n",
       "      <td>12.9</td>\n",
       "    </tr>\n",
       "    <tr>\n",
       "      <th>...</th>\n",
       "      <td>...</td>\n",
       "      <td>...</td>\n",
       "      <td>...</td>\n",
       "      <td>...</td>\n",
       "      <td>...</td>\n",
       "    </tr>\n",
       "    <tr>\n",
       "      <th>195</th>\n",
       "      <td>196</td>\n",
       "      <td>38.2</td>\n",
       "      <td>3.7</td>\n",
       "      <td>13.8</td>\n",
       "      <td>7.6</td>\n",
       "    </tr>\n",
       "    <tr>\n",
       "      <th>196</th>\n",
       "      <td>197</td>\n",
       "      <td>94.2</td>\n",
       "      <td>4.9</td>\n",
       "      <td>8.1</td>\n",
       "      <td>9.7</td>\n",
       "    </tr>\n",
       "    <tr>\n",
       "      <th>197</th>\n",
       "      <td>198</td>\n",
       "      <td>177.0</td>\n",
       "      <td>9.3</td>\n",
       "      <td>6.4</td>\n",
       "      <td>12.8</td>\n",
       "    </tr>\n",
       "    <tr>\n",
       "      <th>198</th>\n",
       "      <td>199</td>\n",
       "      <td>283.6</td>\n",
       "      <td>42.0</td>\n",
       "      <td>66.2</td>\n",
       "      <td>25.5</td>\n",
       "    </tr>\n",
       "    <tr>\n",
       "      <th>199</th>\n",
       "      <td>200</td>\n",
       "      <td>232.1</td>\n",
       "      <td>8.6</td>\n",
       "      <td>8.7</td>\n",
       "      <td>13.4</td>\n",
       "    </tr>\n",
       "  </tbody>\n",
       "</table>\n",
       "<p>200 rows × 5 columns</p>\n",
       "</div>"
      ],
      "text/plain": [
       "     Unnamed: 0     TV  radio  newspaper  sales\n",
       "0             1  230.1   37.8       69.2   22.1\n",
       "1             2   44.5   39.3       45.1   10.4\n",
       "2             3   17.2   45.9       69.3    9.3\n",
       "3             4  151.5   41.3       58.5   18.5\n",
       "4             5  180.8   10.8       58.4   12.9\n",
       "..          ...    ...    ...        ...    ...\n",
       "195         196   38.2    3.7       13.8    7.6\n",
       "196         197   94.2    4.9        8.1    9.7\n",
       "197         198  177.0    9.3        6.4   12.8\n",
       "198         199  283.6   42.0       66.2   25.5\n",
       "199         200  232.1    8.6        8.7   13.4\n",
       "\n",
       "[200 rows x 5 columns]"
      ]
     },
     "execution_count": 40,
     "metadata": {},
     "output_type": "execute_result"
    }
   ],
   "source": [
    "df = pd.read_csv(r\"G:\\My Drive\\4b - Courses\\9 - Data Science\\Datasets\\ALL CSV FILES - 2nd Edition\\Advertising.csv\")\n",
    "df"
   ]
  },
  {
   "cell_type": "code",
   "execution_count": 41,
   "metadata": {},
   "outputs": [
    {
     "data": {
      "text/plain": [
       "(200, 5)"
      ]
     },
     "execution_count": 41,
     "metadata": {},
     "output_type": "execute_result"
    }
   ],
   "source": [
    "df.shape"
   ]
  },
  {
   "attachments": {},
   "cell_type": "markdown",
   "metadata": {},
   "source": [
    "### Drop Duplicate Column"
   ]
  },
  {
   "cell_type": "code",
   "execution_count": 42,
   "metadata": {},
   "outputs": [],
   "source": [
    "df.drop(('Unnamed: 0'),axis=1,inplace=True)"
   ]
  },
  {
   "attachments": {},
   "cell_type": "markdown",
   "metadata": {},
   "source": [
    "### Check for Multiple Collinearity"
   ]
  },
  {
   "cell_type": "code",
   "execution_count": 43,
   "metadata": {},
   "outputs": [
    {
     "data": {
      "text/html": [
       "<style type=\"text/css\">\n",
       "#T_aa6a2_row0_col0, #T_aa6a2_row1_col1, #T_aa6a2_row2_col2, #T_aa6a2_row3_col3 {\n",
       "  background-color: #b40426;\n",
       "  color: #f1f1f1;\n",
       "}\n",
       "#T_aa6a2_row0_col1, #T_aa6a2_row0_col2, #T_aa6a2_row1_col0, #T_aa6a2_row2_col0, #T_aa6a2_row2_col3 {\n",
       "  background-color: #3b4cc0;\n",
       "  color: #f1f1f1;\n",
       "}\n",
       "#T_aa6a2_row0_col3 {\n",
       "  background-color: #f7a688;\n",
       "  color: #000000;\n",
       "}\n",
       "#T_aa6a2_row1_col2 {\n",
       "  background-color: #a3c2fe;\n",
       "  color: #000000;\n",
       "}\n",
       "#T_aa6a2_row1_col3 {\n",
       "  background-color: #cfdaea;\n",
       "  color: #000000;\n",
       "}\n",
       "#T_aa6a2_row2_col1 {\n",
       "  background-color: #a5c3fe;\n",
       "  color: #000000;\n",
       "}\n",
       "#T_aa6a2_row3_col0 {\n",
       "  background-color: #f29072;\n",
       "  color: #f1f1f1;\n",
       "}\n",
       "#T_aa6a2_row3_col1 {\n",
       "  background-color: #ead5c9;\n",
       "  color: #000000;\n",
       "}\n",
       "#T_aa6a2_row3_col2 {\n",
       "  background-color: #7597f6;\n",
       "  color: #f1f1f1;\n",
       "}\n",
       "</style>\n",
       "<table id=\"T_aa6a2\">\n",
       "  <thead>\n",
       "    <tr>\n",
       "      <th class=\"blank level0\" >&nbsp;</th>\n",
       "      <th id=\"T_aa6a2_level0_col0\" class=\"col_heading level0 col0\" >TV</th>\n",
       "      <th id=\"T_aa6a2_level0_col1\" class=\"col_heading level0 col1\" >radio</th>\n",
       "      <th id=\"T_aa6a2_level0_col2\" class=\"col_heading level0 col2\" >newspaper</th>\n",
       "      <th id=\"T_aa6a2_level0_col3\" class=\"col_heading level0 col3\" >sales</th>\n",
       "    </tr>\n",
       "  </thead>\n",
       "  <tbody>\n",
       "    <tr>\n",
       "      <th id=\"T_aa6a2_level0_row0\" class=\"row_heading level0 row0\" >TV</th>\n",
       "      <td id=\"T_aa6a2_row0_col0\" class=\"data row0 col0\" >1.000000</td>\n",
       "      <td id=\"T_aa6a2_row0_col1\" class=\"data row0 col1\" >0.054809</td>\n",
       "      <td id=\"T_aa6a2_row0_col2\" class=\"data row0 col2\" >0.056648</td>\n",
       "      <td id=\"T_aa6a2_row0_col3\" class=\"data row0 col3\" >0.782224</td>\n",
       "    </tr>\n",
       "    <tr>\n",
       "      <th id=\"T_aa6a2_level0_row1\" class=\"row_heading level0 row1\" >radio</th>\n",
       "      <td id=\"T_aa6a2_row1_col0\" class=\"data row1 col0\" >0.054809</td>\n",
       "      <td id=\"T_aa6a2_row1_col1\" class=\"data row1 col1\" >1.000000</td>\n",
       "      <td id=\"T_aa6a2_row1_col2\" class=\"data row1 col2\" >0.354104</td>\n",
       "      <td id=\"T_aa6a2_row1_col3\" class=\"data row1 col3\" >0.576223</td>\n",
       "    </tr>\n",
       "    <tr>\n",
       "      <th id=\"T_aa6a2_level0_row2\" class=\"row_heading level0 row2\" >newspaper</th>\n",
       "      <td id=\"T_aa6a2_row2_col0\" class=\"data row2 col0\" >0.056648</td>\n",
       "      <td id=\"T_aa6a2_row2_col1\" class=\"data row2 col1\" >0.354104</td>\n",
       "      <td id=\"T_aa6a2_row2_col2\" class=\"data row2 col2\" >1.000000</td>\n",
       "      <td id=\"T_aa6a2_row2_col3\" class=\"data row2 col3\" >0.228299</td>\n",
       "    </tr>\n",
       "    <tr>\n",
       "      <th id=\"T_aa6a2_level0_row3\" class=\"row_heading level0 row3\" >sales</th>\n",
       "      <td id=\"T_aa6a2_row3_col0\" class=\"data row3 col0\" >0.782224</td>\n",
       "      <td id=\"T_aa6a2_row3_col1\" class=\"data row3 col1\" >0.576223</td>\n",
       "      <td id=\"T_aa6a2_row3_col2\" class=\"data row3 col2\" >0.228299</td>\n",
       "      <td id=\"T_aa6a2_row3_col3\" class=\"data row3 col3\" >1.000000</td>\n",
       "    </tr>\n",
       "  </tbody>\n",
       "</table>\n"
      ],
      "text/plain": [
       "<pandas.io.formats.style.Styler at 0x1878b23ae90>"
      ]
     },
     "execution_count": 43,
     "metadata": {},
     "output_type": "execute_result"
    }
   ],
   "source": [
    "corr = df.corr()\n",
    "corr.style.background_gradient(cmap='coolwarm')"
   ]
  },
  {
   "attachments": {},
   "cell_type": "markdown",
   "metadata": {},
   "source": [
    "## Multiple Linear Regression"
   ]
  },
  {
   "cell_type": "code",
   "execution_count": 9,
   "metadata": {},
   "outputs": [],
   "source": [
    "df\n",
    "X = df[[\"TV\",\"radio\",\"newspaper\"]].values[:int(0.8*len(df)),:]\n",
    "Xtest = df[[\"TV\",\"radio\",\"newspaper\"]].values[int(0.8*len(df)):,:]\n",
    "y = df.sales.values[:int(0.8*len(df))]\n",
    "ytest = df.sales.values[int(0.8*len(df)):]\n"
   ]
  },
  {
   "cell_type": "code",
   "execution_count": 44,
   "metadata": {},
   "outputs": [],
   "source": [
    "from sklearn.model_selection import train_test_split\n",
    "X = df[[\"TV\",\"radio\",\"newspaper\"]]\n",
    "y = df.sales.values\n",
    "Xtest, Xtrain, ytest, ytrain = train_test_split(X,y,test_size=0.8, random_state=2)"
   ]
  },
  {
   "attachments": {},
   "cell_type": "markdown",
   "metadata": {},
   "source": [
    "### Feature Statistical Importance"
   ]
  },
  {
   "cell_type": "code",
   "execution_count": 45,
   "metadata": {},
   "outputs": [
    {
     "data": {
      "text/html": [
       "<div>\n",
       "<style scoped>\n",
       "    .dataframe tbody tr th:only-of-type {\n",
       "        vertical-align: middle;\n",
       "    }\n",
       "\n",
       "    .dataframe tbody tr th {\n",
       "        vertical-align: top;\n",
       "    }\n",
       "\n",
       "    .dataframe thead th {\n",
       "        text-align: right;\n",
       "    }\n",
       "</style>\n",
       "<table border=\"1\" class=\"dataframe\">\n",
       "  <thead>\n",
       "    <tr style=\"text-align: right;\">\n",
       "      <th></th>\n",
       "      <th>r-sq</th>\n",
       "      <th>P value</th>\n",
       "    </tr>\n",
       "  </thead>\n",
       "  <tbody>\n",
       "    <tr>\n",
       "      <th>TV</th>\n",
       "      <td>0.7822</td>\n",
       "      <td>0.0000</td>\n",
       "    </tr>\n",
       "    <tr>\n",
       "      <th>radio</th>\n",
       "      <td>0.5762</td>\n",
       "      <td>0.0000</td>\n",
       "    </tr>\n",
       "    <tr>\n",
       "      <th>newspaper</th>\n",
       "      <td>0.2283</td>\n",
       "      <td>0.0011</td>\n",
       "    </tr>\n",
       "    <tr>\n",
       "      <th>sales</th>\n",
       "      <td>1.0000</td>\n",
       "      <td>0.0000</td>\n",
       "    </tr>\n",
       "  </tbody>\n",
       "</table>\n",
       "</div>"
      ],
      "text/plain": [
       "             r-sq  P value\n",
       "TV         0.7822   0.0000\n",
       "radio      0.5762   0.0000\n",
       "newspaper  0.2283   0.0011\n",
       "sales      1.0000   0.0000"
      ]
     },
     "execution_count": 45,
     "metadata": {},
     "output_type": "execute_result"
    }
   ],
   "source": [
    "from scipy import stats \n",
    "dg = pd.DataFrame(columns=[\"r-sq\",\"P value\"])\n",
    "\n",
    "for col in df:\n",
    "    if pd.api.types.is_numeric_dtype(df[col]):# and col != \"sales\":\n",
    "        r, p = stats.pearsonr(df[col],df.sales)\n",
    "        dg.loc[col] = [round(r,4), round(p,4)]\n",
    "dg \n",
    "    \n"
   ]
  },
  {
   "attachments": {},
   "cell_type": "markdown",
   "metadata": {},
   "source": [
    "### Multiple Linear Regression Fitting"
   ]
  },
  {
   "cell_type": "code",
   "execution_count": 11,
   "metadata": {},
   "outputs": [
    {
     "name": "stdout",
     "output_type": "stream",
     "text": [
      "coefficients: [ 0.0472521   0.179922   -0.00094408]\n",
      "intercept: 2.949011040582109\n",
      "r-square: 0.8961523241120161\n",
      "Validation r-square: 0.8954782879224387\n"
     ]
    }
   ],
   "source": [
    "from sklearn.linear_model import LinearRegression\n",
    "from sklearn.metrics import r2_score\n",
    "\n",
    "regr = LinearRegression().fit(X,y)\n",
    "print(f\"coefficients: {regr.coef_}\")\n",
    "print(f\"intercept: {regr.intercept_}\")\n",
    "print(f\"r-square: {regr.score(X,y)}\")\n",
    "ypred = regr.predict(Xtest)\n",
    "print(f\"Validation r-square: {r2_score(ytest,ypred)}\")"
   ]
  },
  {
   "cell_type": "code",
   "execution_count": 12,
   "metadata": {},
   "outputs": [
    {
     "data": {
      "image/png": "[encoded data removed]",
      "text/plain": [
       "<Figure size 720x360 with 1 Axes>"
      ]
     },
     "metadata": {
      "needs_background": "light"
     },
     "output_type": "display_data"
    }
   ],
   "source": [
    "plt.figure(figsize=[10,5])\n",
    "plt.plot(ytest,'o', ypred,'-r')\n",
    "plt.xlabel(\"Y - Test\"), plt.ylabel(\"Y - Pred\")\n",
    "plt.show()"
   ]
  },
  {
   "attachments": {},
   "cell_type": "markdown",
   "metadata": {},
   "source": [
    "## Multiple Polynomial Regression "
   ]
  },
  {
   "attachments": {},
   "cell_type": "markdown",
   "metadata": {},
   "source": [
    "Splitting into Train, Test and Validation Data"
   ]
  },
  {
   "cell_type": "code",
   "execution_count": 13,
   "metadata": {},
   "outputs": [],
   "source": [
    "from sklearn.model_selection import train_test_split\n",
    "X = df[[\"TV\",\"radio\",\"newspaper\"]].values\n",
    "y = df.sales.values\n",
    "Xtrain, Xtest, ytrain, ytest = train_test_split(X,y, test_size= 0.2)\n",
    "Xtrain, Xval, ytrain, yval = train_test_split(Xtrain,ytrain, test_size= 0.25)\n",
    " "
   ]
  },
  {
   "cell_type": "code",
   "execution_count": 14,
   "metadata": {},
   "outputs": [],
   "source": [
    "X = df[[\"TV\",\"radio\",\"newspaper\"]].values[:int(0.8*len(df)),:]\n",
    "Xtest = df[[\"TV\",\"radio\",\"newspaper\"]].values[int(0.8*len(df)):,:]\n",
    "y = df.sales.values[:int(0.8*len(df))]\n",
    "ytest = df.sales.values[int(0.8*len(df)):]"
   ]
  },
  {
   "cell_type": "code",
   "execution_count": 15,
   "metadata": {},
   "outputs": [
    {
     "name": "stdout",
     "output_type": "stream",
     "text": [
      " r-square: 0.9844977762775055\n",
      "coefficients: [ 5.44392975e-02  1.98805461e-02  1.17158159e-02 -1.17338329e-04\n",
      "  1.10186153e-03 -5.85513540e-05  1.11997392e-04  6.67494227e-05\n",
      " -9.30004044e-06]\n",
      "intercept: 4.8899033973453765\n"
     ]
    }
   ],
   "source": [
    "from sklearn.preprocessing import PolynomialFeatures\n",
    "poly = PolynomialFeatures(2, include_bias=False)\n",
    "X_ = poly.fit_transform(X)\n",
    "reg = LinearRegression().fit(X_,y)\n",
    "print(f\" r-square: {reg.score(X_,y)}\")\n",
    "print(f\"coefficients: {reg.coef_}\")\n",
    "print(f\"intercept: {reg.intercept_}\") "
   ]
  },
  {
   "cell_type": "code",
   "execution_count": 16,
   "metadata": {},
   "outputs": [
    {
     "name": "stdout",
     "output_type": "stream",
     "text": [
      "validation r-square: 0.9937469119902831\n"
     ]
    },
    {
     "data": {
      "image/png": "[encoded data removed]",
      "text/plain": [
       "<Figure size 720x360 with 1 Axes>"
      ]
     },
     "metadata": {
      "needs_background": "light"
     },
     "output_type": "display_data"
    }
   ],
   "source": [
    "yppred = reg.predict(poly.fit_transform(Xtest))\n",
    "print(f\"validation r-square: {r2_score(ytest,yppred)}\")\n",
    "plt.figure(figsize=[10,5])\n",
    "plt.plot(ytest,'o',yppred,'r')\n",
    "plt.xlabel(\"Y - Test\"), plt.ylabel(\"Y - Pred\")\n",
    "plt.show()"
   ]
  },
  {
   "cell_type": "markdown",
   "metadata": {},
   "source": [
    "P test on Polynomial variables\n",
    "```\n",
    "q = pd.DataFrame(X_)\n",
    "dh = pd.DataFrame(columns=[\"r-square\",\"P value\"])\n",
    "for col in q:\n",
    "    if pd.api.types.is_numeric_dtype(q[col]):\n",
    "        r, p = stats.pearsonr(q[col],df.sales)\n",
    "        dh.loc[col] = [round(r,4),round(p,4)]\n",
    "dh\n",
    "```"
   ]
  },
  {
   "attachments": {},
   "cell_type": "markdown",
   "metadata": {},
   "source": [
    "## Individual Contributions"
   ]
  },
  {
   "attachments": {},
   "cell_type": "markdown",
   "metadata": {},
   "source": [
    "### Using Scipy.Stats.Linregress"
   ]
  },
  {
   "cell_type": "code",
   "execution_count": 17,
   "metadata": {},
   "outputs": [],
   "source": [
    "TV = df.TV.values\n",
    "Radio = df.radio.values\n",
    "Newspaper = df.newspaper.values\n",
    "y = df.sales.values"
   ]
  },
  {
   "attachments": {},
   "cell_type": "markdown",
   "metadata": {},
   "source": [
    "#### TV"
   ]
  },
  {
   "cell_type": "code",
   "execution_count": 18,
   "metadata": {},
   "outputs": [
    {
     "name": "stdout",
     "output_type": "stream",
     "text": [
      "TV r-square: 0.7822244248616065\n",
      "TV P value: 0.0000\n"
     ]
    }
   ],
   "source": [
    "# TV\n",
    "slopet, interceptt, r, p, std_error = stats.linregress(TV, y)\n",
    "\n",
    "def TV_model(x):\n",
    "    return slopet*x + interceptt\n",
    "\n",
    "y_TV_sales = list(map(TV_model,TV))\n",
    "print(f\"TV r-square: {r}\")\n",
    "print(f\"TV P value: {p:.4f}\")"
   ]
  },
  {
   "attachments": {},
   "cell_type": "markdown",
   "metadata": {},
   "source": [
    "#### Radio"
   ]
  },
  {
   "cell_type": "code",
   "execution_count": 19,
   "metadata": {},
   "outputs": [
    {
     "name": "stdout",
     "output_type": "stream",
     "text": [
      "Radio r-square: 0.5762225745710553\n",
      "Radio P value: 0.0000\n"
     ]
    }
   ],
   "source": [
    "# Radio\n",
    "slope, intercept, r, p, std_error = stats.linregress(Radio, y)\n",
    "\n",
    "def Radio_model(x):\n",
    "    return slope*x + intercept\n",
    "\n",
    "y_Radio_sales = list(map(Radio_model,Radio))\n",
    "\n",
    "print(f\"Radio r-square: {r}\")\n",
    "print(f\"Radio P value: {p:.4f}\")"
   ]
  },
  {
   "attachments": {},
   "cell_type": "markdown",
   "metadata": {},
   "source": [
    "#### Newspaper"
   ]
  },
  {
   "cell_type": "code",
   "execution_count": 20,
   "metadata": {},
   "outputs": [
    {
     "name": "stdout",
     "output_type": "stream",
     "text": [
      "Newspaper r-square: 0.22829902637616536\n",
      "Newspaper P value: 0.0011\n"
     ]
    }
   ],
   "source": [
    "# Newspaper\n",
    "slope, intercept, r, p, std_error = stats.linregress(Newspaper, y)\n",
    "\n",
    "def Newspaper_model(x):\n",
    "    return slope*x + intercept\n",
    "\n",
    "y_Newspaper_sales = list(map(Newspaper_model,Newspaper))\n",
    "print(f\"Newspaper r-square: {r}\")\n",
    "print(f\"Newspaper P value: {p:.4f}\")"
   ]
  },
  {
   "attachments": {},
   "cell_type": "markdown",
   "metadata": {},
   "source": [
    "### Using Scipy.Stats.Pearsonr"
   ]
  },
  {
   "cell_type": "code",
   "execution_count": 21,
   "metadata": {},
   "outputs": [
    {
     "data": {
      "text/html": [
       "<div>\n",
       "<style scoped>\n",
       "    .dataframe tbody tr th:only-of-type {\n",
       "        vertical-align: middle;\n",
       "    }\n",
       "\n",
       "    .dataframe tbody tr th {\n",
       "        vertical-align: top;\n",
       "    }\n",
       "\n",
       "    .dataframe thead th {\n",
       "        text-align: right;\n",
       "    }\n",
       "</style>\n",
       "<table border=\"1\" class=\"dataframe\">\n",
       "  <thead>\n",
       "    <tr style=\"text-align: right;\">\n",
       "      <th></th>\n",
       "      <th>r-square</th>\n",
       "      <th>P value</th>\n",
       "    </tr>\n",
       "  </thead>\n",
       "  <tbody>\n",
       "    <tr>\n",
       "      <th>TV</th>\n",
       "      <td>0.7822</td>\n",
       "      <td>0.0000</td>\n",
       "    </tr>\n",
       "    <tr>\n",
       "      <th>radio</th>\n",
       "      <td>0.5762</td>\n",
       "      <td>0.0000</td>\n",
       "    </tr>\n",
       "    <tr>\n",
       "      <th>newspaper</th>\n",
       "      <td>0.2283</td>\n",
       "      <td>0.0011</td>\n",
       "    </tr>\n",
       "    <tr>\n",
       "      <th>sales</th>\n",
       "      <td>1.0000</td>\n",
       "      <td>0.0000</td>\n",
       "    </tr>\n",
       "  </tbody>\n",
       "</table>\n",
       "</div>"
      ],
      "text/plain": [
       "           r-square  P value\n",
       "TV           0.7822   0.0000\n",
       "radio        0.5762   0.0000\n",
       "newspaper    0.2283   0.0011\n",
       "sales        1.0000   0.0000"
      ]
     },
     "execution_count": 21,
     "metadata": {},
     "output_type": "execute_result"
    }
   ],
   "source": [
    "dg = pd.DataFrame(columns=[\"r-square\",\"P value\"])\n",
    "for col in df:\n",
    "    if pd.api.types.is_numeric_dtype(df[col]):\n",
    "        r, p = stats.pearsonr(df[col],df.sales)\n",
    "        dg.loc[col] = [round(r,4),round(p,4)]\n",
    "dg"
   ]
  },
  {
   "attachments": {},
   "cell_type": "markdown",
   "metadata": {},
   "source": [
    "### Plotting"
   ]
  },
  {
   "cell_type": "code",
   "execution_count": 22,
   "metadata": {},
   "outputs": [
    {
     "data": {
      "image/png": "[encoded data removed]",
      "text/plain": [
       "<Figure size 864x360 with 3 Axes>"
      ]
     },
     "metadata": {
      "needs_background": "light"
     },
     "output_type": "display_data"
    }
   ],
   "source": [
    "plt.figure(figsize=(12,5))\n",
    "plt.subplot(1,3,1)\n",
    "plt.scatter(data=df,x='TV',y='sales')\n",
    "plt.plot(TV,y_TV_sales, c='r',lw=3)\n",
    "plt.ylabel(\"Sales\"), plt.xlabel(\"TV\")\n",
    "plt.subplot(1,3,2)\n",
    "plt.scatter(data=df,x='radio',y='sales',marker='o')\n",
    "plt.plot(Radio,y_Radio_sales, c='r',lw=3)\n",
    "plt.ylabel(\"Sales\"), plt.xlabel(\"Radio\")\n",
    "plt.subplot(1,3,3)\n",
    "plt.scatter(data=df,x='newspaper',y='sales')\n",
    "plt.plot(Newspaper,y_Newspaper_sales, c='r',lw=3)\n",
    "plt.ylabel(\"Sales\"), plt.xlabel(\"Newspaper\")\n",
    "plt.show()"
   ]
  },
  {
   "attachments": {},
   "cell_type": "markdown",
   "metadata": {},
   "source": [
    "## Using polynomial regression"
   ]
  },
  {
   "cell_type": "code",
   "execution_count": 23,
   "metadata": {},
   "outputs": [
    {
     "data": {
      "image/png": "[encoded data removed]",
      "text/plain": [
       "<Figure size 432x288 with 1 Axes>"
      ]
     },
     "metadata": {
      "needs_background": "light"
     },
     "output_type": "display_data"
    }
   ],
   "source": [
    "TV_model1 = np.poly1d(np.polyfit(TV,y,1))\n",
    "TVx = np.linspace(0,300,200)\n",
    "plt.scatter(data=df,x='TV',y='sales')\n",
    "plt.plot(TVx, TV_model1(TVx), c='r',lw=2)\n",
    "plt.show()"
   ]
  },
  {
   "cell_type": "code",
   "execution_count": 24,
   "metadata": {},
   "outputs": [
    {
     "data": {
      "text/plain": [
       "0.611875050850071"
      ]
     },
     "execution_count": 24,
     "metadata": {},
     "output_type": "execute_result"
    }
   ],
   "source": [
    "from sklearn.metrics import r2_score\n",
    "r2_score(y,TV_model(TV))"
   ]
  },
  {
   "attachments": {},
   "cell_type": "markdown",
   "metadata": {},
   "source": [
    "### Test"
   ]
  },
  {
   "cell_type": "code",
   "execution_count": 25,
   "metadata": {},
   "outputs": [
    {
     "data": {
      "image/png": "[encoded data removed]",
      "text/plain": [
       "<Figure size 432x288 with 1 Axes>"
      ]
     },
     "metadata": {
      "needs_background": "light"
     },
     "output_type": "display_data"
    }
   ],
   "source": [
    "df.plot(x='TV',y='sales',kind='scatter',xlabel='TV',ylabel='Sales')\n",
    "plt.show()"
   ]
  },
  {
   "cell_type": "code",
   "execution_count": 26,
   "metadata": {},
   "outputs": [
    {
     "data": {
      "text/plain": [
       "pandas.core.frame.DataFrame"
      ]
     },
     "execution_count": 26,
     "metadata": {},
     "output_type": "execute_result"
    }
   ],
   "source": [
    "type(df[['TV']])"
   ]
  },
  {
   "cell_type": "code",
   "execution_count": 27,
   "metadata": {},
   "outputs": [
    {
     "data": {
      "text/html": [
       "<div>\n",
       "<style scoped>\n",
       "    .dataframe tbody tr th:only-of-type {\n",
       "        vertical-align: middle;\n",
       "    }\n",
       "\n",
       "    .dataframe tbody tr th {\n",
       "        vertical-align: top;\n",
       "    }\n",
       "\n",
       "    .dataframe thead th {\n",
       "        text-align: right;\n",
       "    }\n",
       "</style>\n",
       "<table border=\"1\" class=\"dataframe\">\n",
       "  <thead>\n",
       "    <tr style=\"text-align: right;\">\n",
       "      <th></th>\n",
       "      <th>radio</th>\n",
       "      <th>newspaper</th>\n",
       "      <th>sales</th>\n",
       "    </tr>\n",
       "    <tr>\n",
       "      <th>TV</th>\n",
       "      <th></th>\n",
       "      <th></th>\n",
       "      <th></th>\n",
       "    </tr>\n",
       "  </thead>\n",
       "  <tbody>\n",
       "    <tr>\n",
       "      <th>0.7</th>\n",
       "      <td>39.6</td>\n",
       "      <td>8.7</td>\n",
       "      <td>1.6</td>\n",
       "    </tr>\n",
       "    <tr>\n",
       "      <th>4.1</th>\n",
       "      <td>11.6</td>\n",
       "      <td>5.7</td>\n",
       "      <td>3.2</td>\n",
       "    </tr>\n",
       "    <tr>\n",
       "      <th>5.4</th>\n",
       "      <td>29.9</td>\n",
       "      <td>9.4</td>\n",
       "      <td>5.3</td>\n",
       "    </tr>\n",
       "    <tr>\n",
       "      <th>7.3</th>\n",
       "      <td>28.1</td>\n",
       "      <td>41.4</td>\n",
       "      <td>5.5</td>\n",
       "    </tr>\n",
       "    <tr>\n",
       "      <th>7.8</th>\n",
       "      <td>38.9</td>\n",
       "      <td>50.6</td>\n",
       "      <td>6.6</td>\n",
       "    </tr>\n",
       "    <tr>\n",
       "      <th>...</th>\n",
       "      <td>...</td>\n",
       "      <td>...</td>\n",
       "      <td>...</td>\n",
       "    </tr>\n",
       "    <tr>\n",
       "      <th>289.7</th>\n",
       "      <td>42.3</td>\n",
       "      <td>51.2</td>\n",
       "      <td>25.4</td>\n",
       "    </tr>\n",
       "    <tr>\n",
       "      <th>290.7</th>\n",
       "      <td>4.1</td>\n",
       "      <td>8.5</td>\n",
       "      <td>12.8</td>\n",
       "    </tr>\n",
       "    <tr>\n",
       "      <th>292.9</th>\n",
       "      <td>28.3</td>\n",
       "      <td>43.2</td>\n",
       "      <td>21.4</td>\n",
       "    </tr>\n",
       "    <tr>\n",
       "      <th>293.6</th>\n",
       "      <td>27.7</td>\n",
       "      <td>1.8</td>\n",
       "      <td>20.7</td>\n",
       "    </tr>\n",
       "    <tr>\n",
       "      <th>296.4</th>\n",
       "      <td>36.3</td>\n",
       "      <td>100.9</td>\n",
       "      <td>23.8</td>\n",
       "    </tr>\n",
       "  </tbody>\n",
       "</table>\n",
       "<p>190 rows × 3 columns</p>\n",
       "</div>"
      ],
      "text/plain": [
       "       radio  newspaper  sales\n",
       "TV                            \n",
       "0.7     39.6        8.7    1.6\n",
       "4.1     11.6        5.7    3.2\n",
       "5.4     29.9        9.4    5.3\n",
       "7.3     28.1       41.4    5.5\n",
       "7.8     38.9       50.6    6.6\n",
       "...      ...        ...    ...\n",
       "289.7   42.3       51.2   25.4\n",
       "290.7    4.1        8.5   12.8\n",
       "292.9   28.3       43.2   21.4\n",
       "293.6   27.7        1.8   20.7\n",
       "296.4   36.3      100.9   23.8\n",
       "\n",
       "[190 rows x 3 columns]"
      ]
     },
     "execution_count": 27,
     "metadata": {},
     "output_type": "execute_result"
    }
   ],
   "source": [
    "df.groupby(by='TV').mean()"
   ]
  },
  {
   "attachments": {},
   "cell_type": "markdown",
   "metadata": {},
   "source": [
    "### Test"
   ]
  },
  {
   "cell_type": "code",
   "execution_count": 28,
   "metadata": {},
   "outputs": [
    {
     "data": {
      "image/png": "[encoded data removed]",
      "text/plain": [
       "<Figure size 432x288 with 1 Axes>"
      ]
     },
     "metadata": {
      "needs_background": "light"
     },
     "output_type": "display_data"
    }
   ],
   "source": [
    "plt.scatter(x=df.TV, y=df.sales, marker='x')\n",
    "plt.plot(sorted(df.TV),sorted(df.sales),'r')\n",
    "plt.show()"
   ]
  },
  {
   "cell_type": "code",
   "execution_count": 29,
   "metadata": {},
   "outputs": [
    {
     "data": {
      "text/plain": [
       "array([[1.        , 0.78222442],\n",
       "       [0.78222442, 1.        ]])"
      ]
     },
     "execution_count": 29,
     "metadata": {},
     "output_type": "execute_result"
    }
   ],
   "source": [
    "np.corrcoef(df.TV, df.sales, rowvar=False)"
   ]
  },
  {
   "attachments": {},
   "cell_type": "markdown",
   "metadata": {},
   "source": [
    "## Linear Regression - TV & Sales"
   ]
  },
  {
   "cell_type": "code",
   "execution_count": 30,
   "metadata": {},
   "outputs": [
    {
     "name": "stdout",
     "output_type": "stream",
     "text": [
      "R2 Coefficient: 0.611875050850071\n",
      "Intercept: 7.032593549127695\n",
      "Gradient: [0.04753664]\n"
     ]
    }
   ],
   "source": [
    "from sklearn.linear_model import LinearRegression\n",
    "\n",
    "# X = np.reshape(df.TV.values, (-1, 1))\n",
    "X = df[[\"TV\"]].values\n",
    "X.shape\n",
    "y = df.sales.values\n",
    "regr = LinearRegression()\n",
    "regr.fit(X,y)\n",
    "print(f\"R2 Coefficient: {regr.score(X,y)}\")\n",
    "print(f\"Intercept: {regr.intercept_}\")\n",
    "print(f\"Gradient: {regr.coef_}\")\n",
    "\n",
    "def model(x):\n",
    "    return regr.coef_ * x + regr.intercept_\n",
    "\n",
    "y_TV = list(map(model, X))\n"
   ]
  },
  {
   "cell_type": "code",
   "execution_count": 31,
   "metadata": {},
   "outputs": [
    {
     "data": {
      "text/plain": [
       "0.611875050850071"
      ]
     },
     "execution_count": 31,
     "metadata": {},
     "output_type": "execute_result"
    }
   ],
   "source": [
    "# Alternatively\n",
    "from sklearn.metrics import r2_score\n",
    "r2_score(y, y_TV)"
   ]
  },
  {
   "attachments": {},
   "cell_type": "markdown",
   "metadata": {},
   "source": [
    "### Feature Importance | P value test"
   ]
  },
  {
   "cell_type": "code",
   "execution_count": 32,
   "metadata": {},
   "outputs": [
    {
     "name": "stdout",
     "output_type": "stream",
     "text": [
      "TV: r = 0.7822, p = 0.00000\n",
      "radio: r = 0.5762, p = 0.00000\n",
      "newspaper: r = 0.2283, p = 0.00115\n",
      "sales: r = 1.0000, p = 0.00000\n"
     ]
    }
   ],
   "source": [
    "for x in df:\n",
    "    if pd.api.types.is_numeric_dtype(df[x]):\n",
    "        r, p = stats.pearsonr(df.sales.values, df[x])\n",
    "        print(f\"{x}: r = {r:.4f}, p = {p:.5f}\")"
   ]
  },
  {
   "cell_type": "code",
   "execution_count": 33,
   "metadata": {},
   "outputs": [
    {
     "data": {
      "text/plain": [
       "Text(0.5, 1.0, 'Plot Title')"
      ]
     },
     "execution_count": 33,
     "metadata": {},
     "output_type": "execute_result"
    },
    {
     "data": {
      "image/png": "[encoded data removed]",
      "text/plain": [
       "<Figure size 432x288 with 1 Axes>"
      ]
     },
     "metadata": {
      "needs_background": "light"
     },
     "output_type": "display_data"
    }
   ],
   "source": [
    "plt.scatter('TV','sales', data=df)\n",
    "plt.title(\"Plot Title\")"
   ]
  },
  {
   "attachments": {},
   "cell_type": "markdown",
   "metadata": {},
   "source": [
    "```\n",
    "np.linalg.inv()\n",
    "np.transpose()\n",
    "ndarray.T\n",
    "```"
   ]
  },
  {
   "cell_type": "markdown",
   "metadata": {},
   "source": [
    "from sklearn.impute import SimpleImputer\n",
    "\n",
    "impute = SimpleImputer(missing_values=np.nan ,strategy='mean')"
   ]
  },
  {
   "attachments": {},
   "cell_type": "markdown",
   "metadata": {},
   "source": [
    "df.sample()"
   ]
  },
  {
   "cell_type": "code",
   "execution_count": 34,
   "metadata": {},
   "outputs": [],
   "source": [
    "import numpy as np"
   ]
  },
  {
   "cell_type": "code",
   "execution_count": 38,
   "metadata": {},
   "outputs": [
    {
     "data": {
      "text/plain": [
       "array([228.1,  42.5,  15.2, 149.5, 178.8,   6.7,  55.5, 118.2,   6.6,\n",
       "       197.8,  64.1, 212.7,  21.8,  95.5, 202.1, 193.4,  65.8, 279.4,\n",
       "        67.2, 145.3, 216.4, 235.4,  11.2, 226.3,  60.3, 260.9, 140.9,\n",
       "       238.1, 246.8,  68.6, 290.9, 110.9,  95.2, 263.6,  93.7, 288.7,\n",
       "       264.9,  72.7,  41.1, 226. , 200.5, 175. , 291.6, 204.9,  23.1,\n",
       "       173.1,  87.7, 237.9, 225.2,  64.9, 197.8,  98.4, 214.4, 180.6,\n",
       "       260.7, 196.9,   5.3, 134.2, 208.8, 208.7,  51.5, 259.3, 237.3,\n",
       "       100.7, 129.1,  67. ,  29.5, 137.3, 235.4, 214.8, 197.1, 107.8,\n",
       "        24.8, 127.4, 211.4,  14.9,  25.5, 118.5,   3.4, 114. ,  74.4,\n",
       "       237.8,  73.3,  66.4, 211.5, 191.2,  74.3, 108.7,  86.3, 107.8,\n",
       "       132.3,  26.6, 215.7, 248.9, 105.4, 161.3, 195.6, 182.9, 287.7,\n",
       "       133.2, 220.4, 294.4, 278.2, 185.9, 236.2, 135.9,  23. ,  88.4,\n",
       "        11.1, 253.4, 223.8, 239.7, 173.7, 207.6,  76.2,  73.1, 137.2,\n",
       "        74.4, 123.7,  17.4, 139.3,  16.8, 222. , 121.1, 227.5,  85.2,\n",
       "         5.8,  78.2, 218.3,  57.6,  -1.3, 263.2,   6.4, 217.8,  34.9,\n",
       "        46.3,  23.6, 271.7,  41. , 182.9,  71.4, 191.7, 218.5, 102.6,\n",
       "        94.2, 138.3, 238.1, 241.2,  36. ,  42.7, 278.7, 119. , 195.6,\n",
       "       169.3, 185.8,   2.1,  91.9, 147.8,   9.7, 129.7, 170.5,  83.7,\n",
       "       186.4, 161.5, 115.2, 232.5,  15.9, 204.8, 213.4, 282.3,  48. ,\n",
       "       162.5,  17.6, 166.4, 220.4, 274.9, 246.4, 168.2, 274.7, 163.6,\n",
       "       154.6, 216.5,  54.2, 285.6, 251.8, 203. , 137.5, 189.1, 284. ,\n",
       "        16.7,  37.5,  73.5,  15.2, 164.8, 147.7,  36.2,  92.2, 175. ,\n",
       "       281.6, 230.1])"
      ]
     },
     "execution_count": 38,
     "metadata": {},
     "output_type": "execute_result"
    }
   ],
   "source": [
    "np.sort()"
   ]
  }
 ],
 "metadata": {
  "kernelspec": {
   "display_name": "Python 3",
   "language": "python",
   "name": "python3"
  },
  "language_info": {
   "codemirror_mode": {
    "name": "ipython",
    "version": 3
   },
   "file_extension": ".py",
   "mimetype": "text/x-python",
   "name": "python",
   "nbconvert_exporter": "python",
   "pygments_lexer": "ipython3",
   "version": "3.10.9"
  },
  "orig_nbformat": 4,
  "vscode": {
   "interpreter": {
    "hash": "1ba8ddd67eb72f666e9ed24e7ce7d0418c15b0cfb7e00f500f6fe4ad37231218"
   }
  }
 },
 "nbformat": 4,
 "nbformat_minor": 2
}
