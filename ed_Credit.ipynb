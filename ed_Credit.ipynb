{
 "cells": [
  {
   "attachments": {},
   "cell_type": "markdown",
   "metadata": {},
   "source": [
    "## Alternatively"
   ]
  },
  {
   "cell_type": "code",
   "execution_count": null,
   "metadata": {},
   "outputs": [],
   "source": [
    "import numpy as np\n",
    "import pandas as pd\n",
    "import seaborn as sns\n",
    "import matplotlib.pyplot as plt\n",
    "from sklearn.metrics import mean_squared_error\n",
    "from sklearn.linear_model import LinearRegression\n",
    "from sklearn.model_selection import train_test_split"
   ]
  },
  {
   "cell_type": "code",
   "execution_count": null,
   "metadata": {},
   "outputs": [],
   "source": [
    "# Load the credit data.\n",
    "df = pd.read_csv('credit.csv')\n",
    "df.head()"
   ]
  },
  {
   "cell_type": "code",
   "execution_count": null,
   "metadata": {},
   "outputs": [],
   "source": [
    "# The response variable will be 'Balance.'\n",
    "x = df.drop('Balance', axis=1)\n",
    "y = df['Balance']\n",
    "x_train, x_test, y_train, y_test = train_test_split(x, y, test_size=0.2, random_state=42)"
   ]
  },
  {
   "cell_type": "code",
   "execution_count": null,
   "metadata": {},
   "outputs": [],
   "source": [
    "# Inspect the data types of the DataFrame's columns.\n",
    "num = []\n",
    "for col in df.columns[:-1]:\n",
    "    if pd.api.types.is_numeric_dtype(df[col]):\n",
    "        num.append(col)\n",
    "num\n",
    "# df.dtypes"
   ]
  },
  {
   "cell_type": "code",
   "execution_count": null,
   "metadata": {},
   "outputs": [],
   "source": [
    "### edTest(test_model1) ###\n",
    "# Fit a linear model using only the numeric features in the dataframe.\n",
    "numeric_features = num\n",
    "model1 = LinearRegression().fit(x_train[numeric_features], y_train)\n",
    "\n",
    "# Report train and test R2 scores.\n",
    "train_score = model1.score(x_train[numeric_features], y_train)\n",
    "test_score = model1.score(x_test[numeric_features], y_test)\n",
    "print('Train R2:', train_score)\n",
    "print('Test R2:', test_score)"
   ]
  },
  {
   "cell_type": "code",
   "execution_count": null,
   "metadata": {},
   "outputs": [],
   "source": [
    "### edTest(test_design) ###\n",
    "# Create x train and test design matrices creating dummy variables for the categorical.\n",
    "x_train_design = x_train\n",
    "x_test_design = x_test\n",
    "from sklearn.preprocessing import OneHotEncoder\n",
    "for col in x_train_design:\n",
    "    if pd.api.types.is_object_dtype(x_train_design[col]):\n",
    "        enc = OneHotEncoder(drop='first')\n",
    "        onehotarray = enc.fit_transform(x_train_design[[col]].values).toarray()\n",
    "        name = [f'{col}_{name}' for name in enc.categories_[0][1:]]\n",
    "        x_train_design[name] = onehotarray\n",
    "        del x_train_design[col]\n",
    "\n",
    "for col in x_test_design:\n",
    "    if pd.api.types.is_object_dtype(x_test_design[col]):\n",
    "        enc = OneHotEncoder(drop='first')\n",
    "        onehotarray = enc.fit_transform(x_test_design[[col]].values).toarray()\n",
    "        name = [f'{col}_{name}' for name in enc.categories_[0][1:]]\n",
    "        x_test_design[name] = onehotarray\n",
    "        del x_test_design[col]\n",
    "\n",
    "# x_train_design = ___\n",
    "# x_test_design = ___\n",
    "x_train_design.head()"
   ]
  },
  {
   "cell_type": "code",
   "execution_count": null,
   "metadata": {},
   "outputs": [],
   "source": [
    "# Confirm that all data types are now numeric.\n",
    "x_train_design.dtypes"
   ]
  },
  {
   "cell_type": "code",
   "execution_count": null,
   "metadata": {},
   "outputs": [],
   "source": [
    "### edTest(test_model2) ###\n",
    "# Fit model2 on design matrix\n",
    "model2 = LinearRegression().fit(x_train_design, y_train)\n",
    "\n",
    "# Report train and test R2 scores\n",
    "train_score = model2.score(x_train_design, y_train)\n",
    "test_score = model2.score(x_test_design, y_test)\n",
    "print('Train R2:', train_score)\n",
    "print('Test R2:', test_score)"
   ]
  },
  {
   "cell_type": "code",
   "execution_count": null,
   "metadata": {},
   "outputs": [],
   "source": [
    "# Note that the intercept is not a part of .coef_ but is instead stored in .intercept_.\n",
    "coefs = pd.DataFrame(model2.coef_, index=x_train_design.columns, columns=['beta_value'])\n",
    "coefs"
   ]
  },
  {
   "cell_type": "code",
   "execution_count": null,
   "metadata": {},
   "outputs": [],
   "source": [
    "# Visualize crude measure of feature importance.\n",
    "sns.barplot(data=coefs.T, orient='h').set(title='Model Coefficients');"
   ]
  },
  {
   "attachments": {},
   "cell_type": "markdown",
   "metadata": {},
   "source": [
    "Fit a model to predict Balance from 2 predictors: Income and Student"
   ]
  },
  {
   "cell_type": "code",
   "execution_count": null,
   "metadata": {},
   "outputs": [],
   "source": [
    "### edTest(test_model3) ###\n",
    "# Specify best categorical feature\n",
    "best_cat_feature = 'Student'\n",
    "\n",
    "# Define the model.\n",
    "features = ['Income', best_cat_feature]\n",
    "model3 = LinearRegression()\n",
    "model3.fit(x_train_design[features], y_train)\n",
    "\n",
    "# Collect betas from fitted model.\n",
    "beta0 = model3.intercept_\n",
    "beta1 = model3.coef_[features.index('Income')]\n",
    "beta2 = model3.coef_[features.index(best_cat_feature)]\n",
    "\n",
    "# Display betas in a DataFrame.\n",
    "coefs = pd.DataFrame([beta0, beta1, beta2], index=['Intercept']+features, columns=['beta_value'])\n",
    "coefs"
   ]
  },
  {
   "cell_type": "code",
   "execution_count": null,
   "metadata": {},
   "outputs": [],
   "source": [
    "# Visualize crude measure of feature importance.\n",
    "sns.barplot(data=coefs.T, orient='h').set(title='Model Coefficients');"
   ]
  }
 ],
 "metadata": {
  "kernelspec": {
   "display_name": "Python 3",
   "language": "python",
   "name": "python3"
  },
  "language_info": {
   "name": "python",
   "version": "3.10.9 (tags/v3.10.9:1dd9be6, Dec  6 2022, 20:01:21) [MSC v.1934 64 bit (AMD64)]"
  },
  "orig_nbformat": 4,
  "vscode": {
   "interpreter": {
    "hash": "1ba8ddd67eb72f666e9ed24e7ce7d0418c15b0cfb7e00f500f6fe4ad37231218"
   }
  }
 },
 "nbformat": 4,
 "nbformat_minor": 2
}
