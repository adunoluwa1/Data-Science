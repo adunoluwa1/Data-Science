{
 "cells": [
  {
   "cell_type": "code",
   "execution_count": 249,
   "metadata": {},
   "outputs": [],
   "source": [
    "import pandas as pd\n",
    "import numpy as np\n",
    "import matplotlib.pyplot as plt\n",
    "import seaborn as sns\n",
    "from sklearn.model_selection import train_test_split\n",
    "from sklearn.metrics import mean_squared_error\n",
    "from sklearn.linear_model import LinearRegression\n",
    "from sklearn.preprocessing import OneHotEncoder\n"
   ]
  },
  {
   "cell_type": "code",
   "execution_count": 250,
   "metadata": {},
   "outputs": [
    {
     "data": {
      "text/html": [
       "<div>\n",
       "<style scoped>\n",
       "    .dataframe tbody tr th:only-of-type {\n",
       "        vertical-align: middle;\n",
       "    }\n",
       "\n",
       "    .dataframe tbody tr th {\n",
       "        vertical-align: top;\n",
       "    }\n",
       "\n",
       "    .dataframe thead th {\n",
       "        text-align: right;\n",
       "    }\n",
       "</style>\n",
       "<table border=\"1\" class=\"dataframe\">\n",
       "  <thead>\n",
       "    <tr style=\"text-align: right;\">\n",
       "      <th></th>\n",
       "      <th>Income</th>\n",
       "      <th>Limit</th>\n",
       "      <th>Rating</th>\n",
       "      <th>Cards</th>\n",
       "      <th>Age</th>\n",
       "      <th>Education</th>\n",
       "      <th>Own</th>\n",
       "      <th>Student</th>\n",
       "      <th>Married</th>\n",
       "      <th>Region</th>\n",
       "      <th>Balance</th>\n",
       "    </tr>\n",
       "  </thead>\n",
       "  <tbody>\n",
       "    <tr>\n",
       "      <th>0</th>\n",
       "      <td>14.891</td>\n",
       "      <td>3606</td>\n",
       "      <td>283</td>\n",
       "      <td>2</td>\n",
       "      <td>34</td>\n",
       "      <td>11</td>\n",
       "      <td>No</td>\n",
       "      <td>No</td>\n",
       "      <td>Yes</td>\n",
       "      <td>South</td>\n",
       "      <td>333</td>\n",
       "    </tr>\n",
       "    <tr>\n",
       "      <th>1</th>\n",
       "      <td>106.025</td>\n",
       "      <td>6645</td>\n",
       "      <td>483</td>\n",
       "      <td>3</td>\n",
       "      <td>82</td>\n",
       "      <td>15</td>\n",
       "      <td>Yes</td>\n",
       "      <td>Yes</td>\n",
       "      <td>Yes</td>\n",
       "      <td>West</td>\n",
       "      <td>903</td>\n",
       "    </tr>\n",
       "    <tr>\n",
       "      <th>2</th>\n",
       "      <td>104.593</td>\n",
       "      <td>7075</td>\n",
       "      <td>514</td>\n",
       "      <td>4</td>\n",
       "      <td>71</td>\n",
       "      <td>11</td>\n",
       "      <td>No</td>\n",
       "      <td>No</td>\n",
       "      <td>No</td>\n",
       "      <td>West</td>\n",
       "      <td>580</td>\n",
       "    </tr>\n",
       "    <tr>\n",
       "      <th>3</th>\n",
       "      <td>148.924</td>\n",
       "      <td>9504</td>\n",
       "      <td>681</td>\n",
       "      <td>3</td>\n",
       "      <td>36</td>\n",
       "      <td>11</td>\n",
       "      <td>Yes</td>\n",
       "      <td>No</td>\n",
       "      <td>No</td>\n",
       "      <td>West</td>\n",
       "      <td>964</td>\n",
       "    </tr>\n",
       "    <tr>\n",
       "      <th>4</th>\n",
       "      <td>55.882</td>\n",
       "      <td>4897</td>\n",
       "      <td>357</td>\n",
       "      <td>2</td>\n",
       "      <td>68</td>\n",
       "      <td>16</td>\n",
       "      <td>No</td>\n",
       "      <td>No</td>\n",
       "      <td>Yes</td>\n",
       "      <td>South</td>\n",
       "      <td>331</td>\n",
       "    </tr>\n",
       "  </tbody>\n",
       "</table>\n",
       "</div>"
      ],
      "text/plain": [
       "    Income  Limit  Rating  Cards  Age  Education  Own Student Married Region  \\\n",
       "0   14.891   3606     283      2   34         11   No      No     Yes  South   \n",
       "1  106.025   6645     483      3   82         15  Yes     Yes     Yes   West   \n",
       "2  104.593   7075     514      4   71         11   No      No      No   West   \n",
       "3  148.924   9504     681      3   36         11  Yes      No      No   West   \n",
       "4   55.882   4897     357      2   68         16   No      No     Yes  South   \n",
       "\n",
       "   Balance  \n",
       "0      333  \n",
       "1      903  \n",
       "2      580  \n",
       "3      964  \n",
       "4      331  "
      ]
     },
     "execution_count": 250,
     "metadata": {},
     "output_type": "execute_result"
    }
   ],
   "source": [
    "df = pd.read_csv(r'G:\\My Drive\\4b - Courses\\9 - Data Science\\Datasets\\ALL CSV FILES - 2nd Edition\\credit.csv')\n",
    "df.head()"
   ]
  },
  {
   "cell_type": "code",
   "execution_count": 251,
   "metadata": {},
   "outputs": [
    {
     "data": {
      "text/plain": [
       "0"
      ]
     },
     "execution_count": 251,
     "metadata": {},
     "output_type": "execute_result"
    }
   ],
   "source": [
    "df.isna().sum()\n",
    "df.duplicated().sum()"
   ]
  },
  {
   "cell_type": "code",
   "execution_count": 252,
   "metadata": {},
   "outputs": [
    {
     "name": "stdout",
     "output_type": "stream",
     "text": [
      "<class 'pandas.core.frame.DataFrame'>\n",
      "RangeIndex: 400 entries, 0 to 399\n",
      "Data columns (total 11 columns):\n",
      " #   Column     Non-Null Count  Dtype  \n",
      "---  ------     --------------  -----  \n",
      " 0   Income     400 non-null    float64\n",
      " 1   Limit      400 non-null    int64  \n",
      " 2   Rating     400 non-null    int64  \n",
      " 3   Cards      400 non-null    int64  \n",
      " 4   Age        400 non-null    int64  \n",
      " 5   Education  400 non-null    int64  \n",
      " 6   Own        400 non-null    object \n",
      " 7   Student    400 non-null    object \n",
      " 8   Married    400 non-null    object \n",
      " 9   Region     400 non-null    object \n",
      " 10  Balance    400 non-null    int64  \n",
      "dtypes: float64(1), int64(6), object(4)\n",
      "memory usage: 34.5+ KB\n"
     ]
    }
   ],
   "source": [
    "df.info()"
   ]
  },
  {
   "cell_type": "code",
   "execution_count": 253,
   "metadata": {},
   "outputs": [
    {
     "data": {
      "text/html": [
       "<style type=\"text/css\">\n",
       "#T_9873c_row0_col0, #T_9873c_row1_col1, #T_9873c_row1_col2, #T_9873c_row2_col1, #T_9873c_row2_col2, #T_9873c_row3_col3, #T_9873c_row4_col4, #T_9873c_row5_col5, #T_9873c_row6_col6 {\n",
       "  background-color: #800026;\n",
       "  color: #f1f1f1;\n",
       "}\n",
       "#T_9873c_row0_col1 {\n",
       "  background-color: #d51020;\n",
       "  color: #f1f1f1;\n",
       "}\n",
       "#T_9873c_row0_col2, #T_9873c_row1_col0, #T_9873c_row2_col0 {\n",
       "  background-color: #d41020;\n",
       "  color: #f1f1f1;\n",
       "}\n",
       "#T_9873c_row0_col3 {\n",
       "  background-color: #fffbc2;\n",
       "  color: #000000;\n",
       "}\n",
       "#T_9873c_row0_col4 {\n",
       "  background-color: #ffe590;\n",
       "  color: #000000;\n",
       "}\n",
       "#T_9873c_row0_col5, #T_9873c_row2_col5 {\n",
       "  background-color: #fffcc5;\n",
       "  color: #000000;\n",
       "}\n",
       "#T_9873c_row0_col6 {\n",
       "  background-color: #fd9740;\n",
       "  color: #000000;\n",
       "}\n",
       "#T_9873c_row1_col3 {\n",
       "  background-color: #fff7b9;\n",
       "  color: #000000;\n",
       "}\n",
       "#T_9873c_row1_col4, #T_9873c_row2_col3, #T_9873c_row2_col4 {\n",
       "  background-color: #fff1a9;\n",
       "  color: #000000;\n",
       "}\n",
       "#T_9873c_row1_col5 {\n",
       "  background-color: #fffcc4;\n",
       "  color: #000000;\n",
       "}\n",
       "#T_9873c_row1_col6 {\n",
       "  background-color: #c10325;\n",
       "  color: #f1f1f1;\n",
       "}\n",
       "#T_9873c_row2_col6, #T_9873c_row6_col1 {\n",
       "  background-color: #c00225;\n",
       "  color: #f1f1f1;\n",
       "}\n",
       "#T_9873c_row3_col0, #T_9873c_row4_col6 {\n",
       "  background-color: #fffec9;\n",
       "  color: #000000;\n",
       "}\n",
       "#T_9873c_row3_col1 {\n",
       "  background-color: #fffac1;\n",
       "  color: #000000;\n",
       "}\n",
       "#T_9873c_row3_col2 {\n",
       "  background-color: #fff4b0;\n",
       "  color: #000000;\n",
       "}\n",
       "#T_9873c_row3_col4, #T_9873c_row6_col5 {\n",
       "  background-color: #fff9be;\n",
       "  color: #000000;\n",
       "}\n",
       "#T_9873c_row3_col5, #T_9873c_row5_col0, #T_9873c_row5_col1, #T_9873c_row5_col2, #T_9873c_row5_col3, #T_9873c_row5_col4, #T_9873c_row5_col6, #T_9873c_row6_col4 {\n",
       "  background-color: #ffffcc;\n",
       "  color: #000000;\n",
       "}\n",
       "#T_9873c_row3_col6 {\n",
       "  background-color: #fff1ab;\n",
       "  color: #000000;\n",
       "}\n",
       "#T_9873c_row4_col0 {\n",
       "  background-color: #fee288;\n",
       "  color: #000000;\n",
       "}\n",
       "#T_9873c_row4_col1 {\n",
       "  background-color: #ffeda1;\n",
       "  color: #000000;\n",
       "}\n",
       "#T_9873c_row4_col2, #T_9873c_row6_col3 {\n",
       "  background-color: #ffec9f;\n",
       "  color: #000000;\n",
       "}\n",
       "#T_9873c_row4_col3 {\n",
       "  background-color: #fff3ae;\n",
       "  color: #000000;\n",
       "}\n",
       "#T_9873c_row4_col5 {\n",
       "  background-color: #fff8ba;\n",
       "  color: #000000;\n",
       "}\n",
       "#T_9873c_row6_col0 {\n",
       "  background-color: #fd933f;\n",
       "  color: #000000;\n",
       "}\n",
       "#T_9873c_row6_col2 {\n",
       "  background-color: #be0126;\n",
       "  color: #f1f1f1;\n",
       "}\n",
       "</style>\n",
       "<table id=\"T_9873c\">\n",
       "  <thead>\n",
       "    <tr>\n",
       "      <th class=\"blank level0\" >&nbsp;</th>\n",
       "      <th id=\"T_9873c_level0_col0\" class=\"col_heading level0 col0\" >Income</th>\n",
       "      <th id=\"T_9873c_level0_col1\" class=\"col_heading level0 col1\" >Limit</th>\n",
       "      <th id=\"T_9873c_level0_col2\" class=\"col_heading level0 col2\" >Rating</th>\n",
       "      <th id=\"T_9873c_level0_col3\" class=\"col_heading level0 col3\" >Cards</th>\n",
       "      <th id=\"T_9873c_level0_col4\" class=\"col_heading level0 col4\" >Age</th>\n",
       "      <th id=\"T_9873c_level0_col5\" class=\"col_heading level0 col5\" >Education</th>\n",
       "      <th id=\"T_9873c_level0_col6\" class=\"col_heading level0 col6\" >Balance</th>\n",
       "    </tr>\n",
       "  </thead>\n",
       "  <tbody>\n",
       "    <tr>\n",
       "      <th id=\"T_9873c_level0_row0\" class=\"row_heading level0 row0\" >Income</th>\n",
       "      <td id=\"T_9873c_row0_col0\" class=\"data row0 col0\" >1.000000</td>\n",
       "      <td id=\"T_9873c_row0_col1\" class=\"data row0 col1\" >0.792088</td>\n",
       "      <td id=\"T_9873c_row0_col2\" class=\"data row0 col2\" >0.791378</td>\n",
       "      <td id=\"T_9873c_row0_col3\" class=\"data row0 col3\" >-0.018273</td>\n",
       "      <td id=\"T_9873c_row0_col4\" class=\"data row0 col4\" >0.175338</td>\n",
       "      <td id=\"T_9873c_row0_col5\" class=\"data row0 col5\" >-0.027692</td>\n",
       "      <td id=\"T_9873c_row0_col6\" class=\"data row0 col6\" >0.463656</td>\n",
       "    </tr>\n",
       "    <tr>\n",
       "      <th id=\"T_9873c_level0_row1\" class=\"row_heading level0 row1\" >Limit</th>\n",
       "      <td id=\"T_9873c_row1_col0\" class=\"data row1 col0\" >0.792088</td>\n",
       "      <td id=\"T_9873c_row1_col1\" class=\"data row1 col1\" >1.000000</td>\n",
       "      <td id=\"T_9873c_row1_col2\" class=\"data row1 col2\" >0.996880</td>\n",
       "      <td id=\"T_9873c_row1_col3\" class=\"data row1 col3\" >0.010231</td>\n",
       "      <td id=\"T_9873c_row1_col4\" class=\"data row1 col4\" >0.100888</td>\n",
       "      <td id=\"T_9873c_row1_col5\" class=\"data row1 col5\" >-0.023549</td>\n",
       "      <td id=\"T_9873c_row1_col6\" class=\"data row1 col6\" >0.861697</td>\n",
       "    </tr>\n",
       "    <tr>\n",
       "      <th id=\"T_9873c_level0_row2\" class=\"row_heading level0 row2\" >Rating</th>\n",
       "      <td id=\"T_9873c_row2_col0\" class=\"data row2 col0\" >0.791378</td>\n",
       "      <td id=\"T_9873c_row2_col1\" class=\"data row2 col1\" >0.996880</td>\n",
       "      <td id=\"T_9873c_row2_col2\" class=\"data row2 col2\" >1.000000</td>\n",
       "      <td id=\"T_9873c_row2_col3\" class=\"data row2 col3\" >0.053239</td>\n",
       "      <td id=\"T_9873c_row2_col4\" class=\"data row2 col4\" >0.103165</td>\n",
       "      <td id=\"T_9873c_row2_col5\" class=\"data row2 col5\" >-0.030136</td>\n",
       "      <td id=\"T_9873c_row2_col6\" class=\"data row2 col6\" >0.863625</td>\n",
       "    </tr>\n",
       "    <tr>\n",
       "      <th id=\"T_9873c_level0_row3\" class=\"row_heading level0 row3\" >Cards</th>\n",
       "      <td id=\"T_9873c_row3_col0\" class=\"data row3 col0\" >-0.018273</td>\n",
       "      <td id=\"T_9873c_row3_col1\" class=\"data row3 col1\" >0.010231</td>\n",
       "      <td id=\"T_9873c_row3_col2\" class=\"data row3 col2\" >0.053239</td>\n",
       "      <td id=\"T_9873c_row3_col3\" class=\"data row3 col3\" >1.000000</td>\n",
       "      <td id=\"T_9873c_row3_col4\" class=\"data row3 col4\" >0.042948</td>\n",
       "      <td id=\"T_9873c_row3_col5\" class=\"data row3 col5\" >-0.051084</td>\n",
       "      <td id=\"T_9873c_row3_col6\" class=\"data row3 col6\" >0.086456</td>\n",
       "    </tr>\n",
       "    <tr>\n",
       "      <th id=\"T_9873c_level0_row4\" class=\"row_heading level0 row4\" >Age</th>\n",
       "      <td id=\"T_9873c_row4_col0\" class=\"data row4 col0\" >0.175338</td>\n",
       "      <td id=\"T_9873c_row4_col1\" class=\"data row4 col1\" >0.100888</td>\n",
       "      <td id=\"T_9873c_row4_col2\" class=\"data row4 col2\" >0.103165</td>\n",
       "      <td id=\"T_9873c_row4_col3\" class=\"data row4 col3\" >0.042948</td>\n",
       "      <td id=\"T_9873c_row4_col4\" class=\"data row4 col4\" >1.000000</td>\n",
       "      <td id=\"T_9873c_row4_col5\" class=\"data row4 col5\" >0.003619</td>\n",
       "      <td id=\"T_9873c_row4_col6\" class=\"data row4 col6\" >0.001835</td>\n",
       "    </tr>\n",
       "    <tr>\n",
       "      <th id=\"T_9873c_level0_row5\" class=\"row_heading level0 row5\" >Education</th>\n",
       "      <td id=\"T_9873c_row5_col0\" class=\"data row5 col0\" >-0.027692</td>\n",
       "      <td id=\"T_9873c_row5_col1\" class=\"data row5 col1\" >-0.023549</td>\n",
       "      <td id=\"T_9873c_row5_col2\" class=\"data row5 col2\" >-0.030136</td>\n",
       "      <td id=\"T_9873c_row5_col3\" class=\"data row5 col3\" >-0.051084</td>\n",
       "      <td id=\"T_9873c_row5_col4\" class=\"data row5 col4\" >0.003619</td>\n",
       "      <td id=\"T_9873c_row5_col5\" class=\"data row5 col5\" >1.000000</td>\n",
       "      <td id=\"T_9873c_row5_col6\" class=\"data row5 col6\" >-0.008062</td>\n",
       "    </tr>\n",
       "    <tr>\n",
       "      <th id=\"T_9873c_level0_row6\" class=\"row_heading level0 row6\" >Balance</th>\n",
       "      <td id=\"T_9873c_row6_col0\" class=\"data row6 col0\" >0.463656</td>\n",
       "      <td id=\"T_9873c_row6_col1\" class=\"data row6 col1\" >0.861697</td>\n",
       "      <td id=\"T_9873c_row6_col2\" class=\"data row6 col2\" >0.863625</td>\n",
       "      <td id=\"T_9873c_row6_col3\" class=\"data row6 col3\" >0.086456</td>\n",
       "      <td id=\"T_9873c_row6_col4\" class=\"data row6 col4\" >0.001835</td>\n",
       "      <td id=\"T_9873c_row6_col5\" class=\"data row6 col5\" >-0.008062</td>\n",
       "      <td id=\"T_9873c_row6_col6\" class=\"data row6 col6\" >1.000000</td>\n",
       "    </tr>\n",
       "  </tbody>\n",
       "</table>\n"
      ],
      "text/plain": [
       "<pandas.io.formats.style.Styler at 0x246de6ccac0>"
      ]
     },
     "execution_count": 253,
     "metadata": {},
     "output_type": "execute_result"
    }
   ],
   "source": [
    "corr = df.corr()\n",
    "corr.style.background_gradient(cmap=\"YlOrRd\")"
   ]
  },
  {
   "cell_type": "code",
   "execution_count": 254,
   "metadata": {},
   "outputs": [],
   "source": [
    "num = []\n",
    "for col in df.columns[:-1]:\n",
    "    if pd.api.types.is_numeric_dtype(df[col]):\n",
    "        num.append(col)\n",
    "    if pd.api.types.is_object_dtype(df[col]):\n",
    "        df[col] = df[col].astype('category')"
   ]
  },
  {
   "cell_type": "code",
   "execution_count": 255,
   "metadata": {},
   "outputs": [
    {
     "name": "stdout",
     "output_type": "stream",
     "text": [
      "      Income  Limit  Rating  Cards  Age  Education  Own Student Married Region\n",
      "0     14.891   3606     283      2   34         11   No      No     Yes  South\n",
      "1    106.025   6645     483      3   82         15  Yes     Yes     Yes   West\n",
      "2    104.593   7075     514      4   71         11   No      No      No   West\n",
      "3    148.924   9504     681      3   36         11  Yes      No      No   West\n",
      "4     55.882   4897     357      2   68         16   No      No     Yes  South\n",
      "..       ...    ...     ...    ...  ...        ...  ...     ...     ...    ...\n",
      "395   12.096   4100     307      3   32         13   No      No     Yes  South\n",
      "396   13.364   3838     296      5   65         17   No      No      No   East\n",
      "397   57.872   4171     321      5   67         12  Yes      No     Yes  South\n",
      "398   37.728   2525     192      1   44         13   No      No     Yes  South\n",
      "399   18.701   5524     415      5   64          7  Yes      No      No   West\n",
      "\n",
      "[400 rows x 10 columns]\n"
     ]
    }
   ],
   "source": [
    "X = X_design = df.drop(columns=[\"Balance\"])\n",
    "y = X_design = df.Balance\n",
    "print(X)"
   ]
  },
  {
   "cell_type": "code",
   "execution_count": 256,
   "metadata": {},
   "outputs": [],
   "source": [
    "for col in X.columns:\n",
    "    if pd.api.types.is_categorical_dtype(X[col]):\n",
    "        enc = OneHotEncoder(drop='first', dtype=int)\n",
    "        array = enc.fit_transform(X[[col]].values).toarray()\n",
    "        name = [f'{col}_{name}' for name in enc.categories_[0][1:]]\n",
    "        X[name] = array\n",
    "        X.drop(columns=col, inplace=True)\n",
    "\n",
    "n = 2\n",
    "X_train, X_test, y_train, y_test = train_test_split(X, y, train_size=0.8, random_state=n)"
   ]
  },
  {
   "attachments": {},
   "cell_type": "markdown",
   "metadata": {},
   "source": [
    "## Linear Regression without categorical variables"
   ]
  },
  {
   "cell_type": "code",
   "execution_count": 257,
   "metadata": {},
   "outputs": [
    {
     "name": "stdout",
     "output_type": "stream",
     "text": [
      "R2 Train Score: 0.8760878380120528\n",
      "R2 Test Score: 0.8857803994521423\n",
      "MSE : 22509.7747907825\n"
     ]
    }
   ],
   "source": [
    "lreg = LinearRegression()\n",
    "lreg.fit(X_train[num],y_train)\n",
    "y_pred = lreg.predict(X_test[num])\n",
    "R2_train = lreg.score(X_train[num],y_train)\n",
    "R2_test = lreg.score(X_test[num],y_test)\n",
    "MSE_1 = mean_squared_error(y_test,y_pred)\n",
    "print(f'R2 Train Score: {R2_train}')\n",
    "print(f'R2 Test Score: {R2_test}')\n",
    "print(f'MSE : {MSE_1}')"
   ]
  },
  {
   "attachments": {},
   "cell_type": "markdown",
   "metadata": {},
   "source": [
    "## Linear Regression with encoded variables"
   ]
  },
  {
   "cell_type": "code",
   "execution_count": 258,
   "metadata": {},
   "outputs": [
    {
     "name": "stdout",
     "output_type": "stream",
     "text": [
      "R2 Train Score: 0.955693247428173\n",
      "R2 Test Score: 0.9501506806667692\n",
      "MSE : 9824.031482185654\n"
     ]
    }
   ],
   "source": [
    "lreg2 = LinearRegression()\n",
    "lreg2.fit(X_train, y_train)\n",
    "y_pred2 = lreg2.predict(X_test)\n",
    "R2e_train = lreg2.score(X_train, y_train)\n",
    "R2e_test = lreg2.score(X_test, y_test)\n",
    "MSE_2 = mean_squared_error(y_test,y_pred2)\n",
    "print(f'R2 Train Score: {R2e_train}')\n",
    "print(f'R2 Test Score: {R2e_test}')\n",
    "print(f'MSE : {MSE_2}')"
   ]
  },
  {
   "cell_type": "code",
   "execution_count": 259,
   "metadata": {},
   "outputs": [
    {
     "data": {
      "text/html": [
       "<div>\n",
       "<style scoped>\n",
       "    .dataframe tbody tr th:only-of-type {\n",
       "        vertical-align: middle;\n",
       "    }\n",
       "\n",
       "    .dataframe tbody tr th {\n",
       "        vertical-align: top;\n",
       "    }\n",
       "\n",
       "    .dataframe thead th {\n",
       "        text-align: right;\n",
       "    }\n",
       "</style>\n",
       "<table border=\"1\" class=\"dataframe\">\n",
       "  <thead>\n",
       "    <tr style=\"text-align: right;\">\n",
       "      <th></th>\n",
       "      <th>Beta value</th>\n",
       "    </tr>\n",
       "  </thead>\n",
       "  <tbody>\n",
       "    <tr>\n",
       "      <th>Income</th>\n",
       "      <td>-7.859539</td>\n",
       "    </tr>\n",
       "    <tr>\n",
       "      <th>Limit</th>\n",
       "      <td>0.194299</td>\n",
       "    </tr>\n",
       "    <tr>\n",
       "      <th>Rating</th>\n",
       "      <td>1.102977</td>\n",
       "    </tr>\n",
       "    <tr>\n",
       "      <th>Cards</th>\n",
       "      <td>18.696977</td>\n",
       "    </tr>\n",
       "    <tr>\n",
       "      <th>Age</th>\n",
       "      <td>-0.654617</td>\n",
       "    </tr>\n",
       "    <tr>\n",
       "      <th>Education</th>\n",
       "      <td>-1.125279</td>\n",
       "    </tr>\n",
       "    <tr>\n",
       "      <th>Own_Yes</th>\n",
       "      <td>-10.960742</td>\n",
       "    </tr>\n",
       "    <tr>\n",
       "      <th>Student_Yes</th>\n",
       "      <td>414.092533</td>\n",
       "    </tr>\n",
       "    <tr>\n",
       "      <th>Married_Yes</th>\n",
       "      <td>-17.843363</td>\n",
       "    </tr>\n",
       "    <tr>\n",
       "      <th>Region_South</th>\n",
       "      <td>19.532250</td>\n",
       "    </tr>\n",
       "    <tr>\n",
       "      <th>Region_West</th>\n",
       "      <td>36.609997</td>\n",
       "    </tr>\n",
       "  </tbody>\n",
       "</table>\n",
       "</div>"
      ],
      "text/plain": [
       "              Beta value\n",
       "Income         -7.859539\n",
       "Limit           0.194299\n",
       "Rating          1.102977\n",
       "Cards          18.696977\n",
       "Age            -0.654617\n",
       "Education      -1.125279\n",
       "Own_Yes       -10.960742\n",
       "Student_Yes   414.092533\n",
       "Married_Yes   -17.843363\n",
       "Region_South   19.532250\n",
       "Region_West    36.609997"
      ]
     },
     "execution_count": 259,
     "metadata": {},
     "output_type": "execute_result"
    }
   ],
   "source": [
    "coeffs = pd.DataFrame(data=lreg2.coef_, columns=[\"Beta value\"], index=X.columns)\n",
    "coeffs"
   ]
  },
  {
   "cell_type": "code",
   "execution_count": 260,
   "metadata": {},
   "outputs": [
    {
     "data": {
      "text/html": [
       "<div>\n",
       "<style scoped>\n",
       "    .dataframe tbody tr th:only-of-type {\n",
       "        vertical-align: middle;\n",
       "    }\n",
       "\n",
       "    .dataframe tbody tr th {\n",
       "        vertical-align: top;\n",
       "    }\n",
       "\n",
       "    .dataframe thead th {\n",
       "        text-align: right;\n",
       "    }\n",
       "</style>\n",
       "<table border=\"1\" class=\"dataframe\">\n",
       "  <thead>\n",
       "    <tr style=\"text-align: right;\">\n",
       "      <th></th>\n",
       "      <th>Beta value</th>\n",
       "    </tr>\n",
       "  </thead>\n",
       "  <tbody>\n",
       "    <tr>\n",
       "      <th>Married_Yes</th>\n",
       "      <td>-17.843363</td>\n",
       "    </tr>\n",
       "    <tr>\n",
       "      <th>Own_Yes</th>\n",
       "      <td>-10.960742</td>\n",
       "    </tr>\n",
       "    <tr>\n",
       "      <th>Income</th>\n",
       "      <td>-7.859539</td>\n",
       "    </tr>\n",
       "    <tr>\n",
       "      <th>Education</th>\n",
       "      <td>-1.125279</td>\n",
       "    </tr>\n",
       "    <tr>\n",
       "      <th>Age</th>\n",
       "      <td>-0.654617</td>\n",
       "    </tr>\n",
       "    <tr>\n",
       "      <th>Limit</th>\n",
       "      <td>0.194299</td>\n",
       "    </tr>\n",
       "    <tr>\n",
       "      <th>Rating</th>\n",
       "      <td>1.102977</td>\n",
       "    </tr>\n",
       "    <tr>\n",
       "      <th>Cards</th>\n",
       "      <td>18.696977</td>\n",
       "    </tr>\n",
       "    <tr>\n",
       "      <th>Region_South</th>\n",
       "      <td>19.532250</td>\n",
       "    </tr>\n",
       "    <tr>\n",
       "      <th>Region_West</th>\n",
       "      <td>36.609997</td>\n",
       "    </tr>\n",
       "    <tr>\n",
       "      <th>Student_Yes</th>\n",
       "      <td>414.092533</td>\n",
       "    </tr>\n",
       "  </tbody>\n",
       "</table>\n",
       "</div>"
      ],
      "text/plain": [
       "              Beta value\n",
       "Married_Yes   -17.843363\n",
       "Own_Yes       -10.960742\n",
       "Income         -7.859539\n",
       "Education      -1.125279\n",
       "Age            -0.654617\n",
       "Limit           0.194299\n",
       "Rating          1.102977\n",
       "Cards          18.696977\n",
       "Region_South   19.532250\n",
       "Region_West    36.609997\n",
       "Student_Yes   414.092533"
      ]
     },
     "execution_count": 260,
     "metadata": {},
     "output_type": "execute_result"
    }
   ],
   "source": [
    "idx = np.argsort(coeffs[\"Beta value\"])\n",
    "coeffs[\"Beta value\"] = coeffs[\"Beta value\"].values[idx]\n",
    "coeffs.index = coeffs.index[idx]\n",
    "coeffs\n"
   ]
  },
  {
   "cell_type": "code",
   "execution_count": 261,
   "metadata": {},
   "outputs": [
    {
     "data": {
      "image/png": "[encoded data removed]",
      "text/plain": [
       "<Figure size 432x288 with 1 Axes>"
      ]
     },
     "metadata": {
      "needs_background": "light"
     },
     "output_type": "display_data"
    }
   ],
   "source": [
    "plt.barh(coeffs.index[::-1],coeffs[\"Beta value\"][::-1])\n",
    "plt.title(label='Model Coefficient')\n",
    "plt.show()"
   ]
  },
  {
   "cell_type": "code",
   "execution_count": 262,
   "metadata": {},
   "outputs": [
    {
     "data": {
      "image/png": "[encoded data removed]",
      "text/plain": [
       "<Figure size 432x288 with 1 Axes>"
      ]
     },
     "metadata": {
      "needs_background": "light"
     },
     "output_type": "display_data"
    }
   ],
   "source": [
    "# Visualize crude measure of feature importance.\n",
    "sns.barplot(data=coeffs.T, orient='h').set(title='Model Coefficients');"
   ]
  }
 ],
 "metadata": {
  "kernelspec": {
   "display_name": "Python 3",
   "language": "python",
   "name": "python3"
  },
  "language_info": {
   "codemirror_mode": {
    "name": "ipython",
    "version": 3
   },
   "file_extension": ".py",
   "mimetype": "text/x-python",
   "name": "python",
   "nbconvert_exporter": "python",
   "pygments_lexer": "ipython3",
   "version": "3.10.9"
  },
  "orig_nbformat": 4,
  "vscode": {
   "interpreter": {
    "hash": "1ba8ddd67eb72f666e9ed24e7ce7d0418c15b0cfb7e00f500f6fe4ad37231218"
   }
  }
 },
 "nbformat": 4,
 "nbformat_minor": 2
}
