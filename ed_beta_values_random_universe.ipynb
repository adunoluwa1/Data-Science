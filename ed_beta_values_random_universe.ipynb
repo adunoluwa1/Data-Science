{
    "cells": [
        {
            "cell_type": "code",
            "execution_count": 42,
            "metadata": {},
            "outputs": [],
            "source": [
                "# Import necessary libraries\n",
                "import numpy as np\n",
                "import pandas as pd\n",
                "import matplotlib.pyplot as plt\n",
                "from randomuniverse import RandomUniverse\n",
                "%matplotlib inline\n"
            ]
        },
        {
            "cell_type": "code",
            "execution_count": 43,
            "metadata": {},
            "outputs": [
                {
                    "data": {
                        "text/html": [
                            "<div>\n",
                            "<style scoped>\n",
                            "    .dataframe tbody tr th:only-of-type {\n",
                            "        vertical-align: middle;\n",
                            "    }\n",
                            "\n",
                            "    .dataframe tbody tr th {\n",
                            "        vertical-align: top;\n",
                            "    }\n",
                            "\n",
                            "    .dataframe thead th {\n",
                            "        text-align: right;\n",
                            "    }\n",
                            "</style>\n",
                            "<table border=\"1\" class=\"dataframe\">\n",
                            "  <thead>\n",
                            "    <tr style=\"text-align: right;\">\n",
                            "      <th></th>\n",
                            "      <th>tv</th>\n",
                            "      <th>sales</th>\n",
                            "    </tr>\n",
                            "  </thead>\n",
                            "  <tbody>\n",
                            "    <tr>\n",
                            "      <th>0</th>\n",
                            "      <td>230.1</td>\n",
                            "      <td>465.26</td>\n",
                            "    </tr>\n",
                            "    <tr>\n",
                            "      <th>1</th>\n",
                            "      <td>44.5</td>\n",
                            "      <td>218.95</td>\n",
                            "    </tr>\n",
                            "    <tr>\n",
                            "      <th>2</th>\n",
                            "      <td>17.2</td>\n",
                            "      <td>195.79</td>\n",
                            "    </tr>\n",
                            "    <tr>\n",
                            "      <th>3</th>\n",
                            "      <td>151.5</td>\n",
                            "      <td>389.47</td>\n",
                            "    </tr>\n",
                            "    <tr>\n",
                            "      <th>4</th>\n",
                            "      <td>180.8</td>\n",
                            "      <td>271.58</td>\n",
                            "    </tr>\n",
                            "  </tbody>\n",
                            "</table>\n",
                            "</div>"
                        ],
                        "text/plain": [
                            "      tv   sales\n",
                            "0  230.1  465.26\n",
                            "1   44.5  218.95\n",
                            "2   17.2  195.79\n",
                            "3  151.5  389.47\n",
                            "4  180.8  271.58"
                        ]
                    },
                    "execution_count": 43,
                    "metadata": {},
                    "output_type": "execute_result"
                }
            ],
            "source": [
                "# Read the advertising dataset as a pandas dataframe\n",
                "df = pd.read_csv('Advertising_adj.csv')\n",
                "\n",
                "# Take a quick look at the dataframe\n",
                "df.head()\n"
            ]
        },
        {
            "cell_type": "code",
            "execution_count": 44,
            "metadata": {},
            "outputs": [],
            "source": [
                "# Create two empty lists that will store the beta values\n",
                "beta0_list, beta1_list = [],[]\n",
                "\n",
                "# Choose the number of \"parallel\" Universes to generate \n",
                "# that many new versions of the dataset\n",
                "parallelUniverses = 1000\n",
                "\n",
                "# Loop over the maximum number of parallel Universes\n",
                "for i in range(parallelUniverses):\n",
                "\n",
                "    # Call the RandomUniverse helper function with the dataframe\n",
                "    # read from the data file\n",
                "    df_new = RandomUniverse(df)\n",
                "\n",
                "    # Find the mean of the predictor values i.e. tv\n",
                "    xmean = df_new.tv.mean()\n",
                "\n",
                "    # Find the mean of the response values i.e. sales\n",
                "    ymean = df_new.sales.mean()\n",
                "\n",
                "    # Compute the analytical values of beta0 and beta1 using the \n",
                "    # equation given in the hints\n",
                "    beta1 = np.sum((df_new.tv.values - xmean)*(df_new.sales.values - ymean))/np.sum((df_new.tv.values - xmean)**2)\n",
                "    beta0 = ymean - beta1 * xmean\n",
                "\n",
                "    # Append the calculated values of beta1 and beta0 to the appropriate lists\n",
                "    beta0_list.append(beta0)\n",
                "    beta1_list.append(beta1)\n"
            ]
        },
        {
            "cell_type": "code",
            "execution_count": 45,
            "metadata": {},
            "outputs": [],
            "source": [
                "### edTest(test_beta) ###\n",
                "\n",
                "# Compute the mean of the beta values\n",
                "beta0_mean = np.mean(beta0_list)\n",
                "beta1_mean = np.mean(beta1_list)\n"
            ]
        },
        {
            "cell_type": "code",
            "execution_count": 46,
            "metadata": {},
            "outputs": [
                {
                    "name": "stdout",
                    "output_type": "stream",
                    "text": [
                        "147.99830722255587\n",
                        "1.0004660482835883\n"
                    ]
                }
            ],
            "source": [
                "print(beta0_mean)\n",
                "print(beta1_mean)\n"
            ]
        },
        {
            "cell_type": "code",
            "execution_count": 47,
            "metadata": {},
            "outputs": [
                {
                    "data": {
                        "text/plain": [
                            "Text(0, 0.5, 'Frequency')"
                        ]
                    },
                    "execution_count": 47,
                    "metadata": {},
                    "output_type": "execute_result"
                },
                {
                    "data": {
                        "image/png": "[encoded data removed]",
                        "text/plain": [
                            "<Figure size 1800x800 with 2 Axes>"
                        ]
                    },
                    "metadata": {},
                    "output_type": "display_data"
                }
            ],
            "source": [
                "# Plot histograms of beta_0 and beta_1 using lists created above \n",
                "fig, ax = plt.subplots(1,2, figsize=(18,8))\n",
                "ax[0].hist(beta0_list)\n",
                "ax[1].hist(beta1_list)\n",
                "ax[0].set_xlabel('Beta 0')\n",
                "ax[1].set_xlabel('Beta 1')\n",
                "ax[0].set_ylabel('Frequency');\n"
            ]
        },
        {
            "attachments": {},
            "cell_type": "markdown",
            "metadata": {},
            "source": [
                "⏸ Increase the number of parallelUniverses. Which of the following do you observe?\n",
                "\n",
                "A. The range of the distribution increases.\n",
                "\n",
                "B. The frequency of points decreases.\n",
                "\n",
                "C. The range of the distribution decreases.\n",
                "\n",
                "D. There is no significant change."
            ]
        },
        {
            "cell_type": "code",
            "execution_count": 48,
            "metadata": {},
            "outputs": [],
            "source": [
                "### edTest(test_chow1) ###\n",
                "# Submit an answer choice as a string below \n",
                "# (Eg. if you choose option C, put 'C')\n",
                "answer1 = 'D'\n"
            ]
        },
        {
            "cell_type": "code",
            "execution_count": null,
            "metadata": {},
            "outputs": [],
            "source": [
                "np.random.randint()"
            ]
        }
    ],
    "metadata": {
        "kernelspec": {
            "display_name": "Python 3",
            "language": "python",
            "name": "python3"
        },
        "language_info": {
            "name": "python",
            "version": "3.10.9 (tags/v3.10.9:1dd9be6, Dec  6 2022, 20:01:21) [MSC v.1934 64 bit (AMD64)]"
        },
        "vscode": {
            "interpreter": {
                "hash": "1ba8ddd67eb72f666e9ed24e7ce7d0418c15b0cfb7e00f500f6fe4ad37231218"
            }
        }
    },
    "nbformat": 4,
    "nbformat_minor": 4
}
